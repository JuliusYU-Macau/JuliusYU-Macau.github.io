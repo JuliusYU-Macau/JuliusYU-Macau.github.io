{
  "nbformat": 4,
  "nbformat_minor": 0,
  "metadata": {
    "kernelspec": {
      "display_name": "Python 3",
      "language": "python",
      "name": "python3"
    },
    "language_info": {
      "codemirror_mode": {
        "name": "ipython",
        "version": 3
      },
      "file_extension": ".py",
      "mimetype": "text/x-python",
      "name": "python",
      "nbconvert_exporter": "python",
      "pygments_lexer": "ipython3",
      "version": "3.6.12"
    },
    "colab": {
      "name": "Diabetes Prediction.ipynb",
      "provenance": [],
      "collapsed_sections": [],
      "include_colab_link": true
    }
  },
  "cells": [
    {
      "cell_type": "markdown",
      "metadata": {
        "id": "view-in-github",
        "colab_type": "text"
      },
      "source": [
        "<a href=\"https://colab.research.google.com/github/JuliusYU-Macau/JuliusYU-Macau.github.io/blob/main/Diabetes_Prediction.ipynb\" target=\"_parent\"><img src=\"https://colab.research.google.com/assets/colab-badge.svg\" alt=\"Open In Colab\"/></a>"
      ]
    },
    {
      "cell_type": "markdown",
      "metadata": {
        "id": "dwZQkRbDoW1J"
      },
      "source": [
        "# Model Name: Early Diabetes Risk Prediction for Elder  "
      ]
    },
    {
      "cell_type": "markdown",
      "metadata": {
        "id": "ki33ycwPoW1O"
      },
      "source": [
        "## Description of Data (Original Data)\n",
        "* Data update version: 2018-02-15\n",
        "* Time Period: 1996-2008 (12 years)\n",
        "* Subject Terms: aging, cardiovascular disease, chronic illnesses, developing nations, diabetes, early life conditions, health status, obesity, older adults, physical limitations, smoking, socioeconomic status, tobacco products, tobacco use\n",
        "* 180 attributes\n",
        "* Size of data: 88, 273\n",
        "* Geographic Coverage: Argentina, Puerto Rico, United States, Uruguay, China (Peoples Republic), England, Ghana, India, Russia, Costa Rica, Cuba, Netherlands, Bangladesh, Barbados, Taiwan, Brazil, South Africa, Mexico, Chile, Indonesia\n",
        "* #Note: The description of data can be seen in Codebook.pdf"
      ]
    },
    {
      "cell_type": "markdown",
      "metadata": {
        "id": "Hsj3LkvboW1P"
      },
      "source": [
        "## Real Data (In experiment)\n",
        "* 5 Modules (Demographics, system, early life conditions, adult lifestyle, adult health outcome) and 1 output (diabetes: 1 or 0)\n",
        "* 36 attributes\n",
        "* Sample size: 23845 (for categorical attributes, no missing value. others has missing value) i.e., GOODHEALTH, WAIST, HIP \n",
        "* still 12 years"
      ]
    },
    {
      "cell_type": "markdown",
      "metadata": {
        "id": "Fyu8so69oW1Q"
      },
      "source": [
        "## Innovation of Data (Compare to the previous research works)\n",
        "* Consider the social background (income, married? etc)\n",
        "* Time period is long, previous works only consider one year or not consider the time\n",
        "* Consider children health conditions, adults healthcare conditions (other works not consider, but it is important for chronic diseases)"
      ]
    },
    {
      "cell_type": "markdown",
      "metadata": {
        "id": "ObVQZ3F3oW1Q"
      },
      "source": [
        "## Innovation of Model"
      ]
    },
    {
      "cell_type": "markdown",
      "metadata": {
        "id": "JU8sd7ypoW1R"
      },
      "source": [
        "## Reference (Paper only)\n",
        "* APA format"
      ]
    },
    {
      "cell_type": "markdown",
      "metadata": {
        "id": "dSe8WOS8oW1R"
      },
      "source": [
        "### ----------------------------------- Python Packages -----------------------------------"
      ]
    },
    {
      "cell_type": "code",
      "metadata": {
        "colab": {
          "base_uri": "https://localhost:8080/"
        },
        "id": "a_t6tMNRo8R4",
        "outputId": "0248e4b3-19ff-4268-cfc4-6e3d13103297"
      },
      "source": [
        "# For Google Colab\n",
        "from google.colab import drive\n",
        "drive.mount('/content/drive')"
      ],
      "execution_count": 1,
      "outputs": [
        {
          "output_type": "stream",
          "name": "stdout",
          "text": [
            "Mounted at /content/drive\n"
          ]
        }
      ]
    },
    {
      "cell_type": "code",
      "metadata": {
        "id": "zCJIKo7CoW1R"
      },
      "source": [
        "# Import All Packages at here\n",
        "import numpy as np\n",
        "import pandas as pd\n",
        "from time import time\n",
        "from IPython.display import display # Allows the use of display() for DataFrames\n",
        "import seaborn as sns\n",
        "from sklearn.cluster import KMeans\n",
        "from sklearn.decomposition import PCA\n",
        "from sklearn.preprocessing import StandardScaler\n",
        "from operator import itemgetter\n",
        "import torch\n",
        "from torch import nn\n",
        "import torch.nn as nn\n",
        "from sklearn.model_selection import train_test_split\n",
        "# from torchvision.transforms import ToTensor\n",
        "\n",
        "# from torch.utils.data import DataLoader\n",
        "\n",
        "# from torch.autograd import Variable\n",
        "\n",
        "# import torch.nn.functional as F\n",
        "\n",
        "# Pretty display for notebooks\n",
        "%matplotlib inline"
      ],
      "execution_count": 2,
      "outputs": []
    },
    {
      "cell_type": "code",
      "metadata": {
        "id": "VNExBzFcoW1U"
      },
      "source": [
        "from torch.utils.data import DataLoader"
      ],
      "execution_count": 3,
      "outputs": []
    },
    {
      "cell_type": "code",
      "metadata": {
        "id": "Xl4H7xdUWSy2"
      },
      "source": [
        "import torch.nn.functional as F"
      ],
      "execution_count": 4,
      "outputs": []
    },
    {
      "cell_type": "code",
      "metadata": {
        "id": "tYSruBLurRKg"
      },
      "source": [
        "from sklearn.preprocessing import OneHotEncoder"
      ],
      "execution_count": 5,
      "outputs": []
    },
    {
      "cell_type": "code",
      "metadata": {
        "id": "N4099nXxM7Ur"
      },
      "source": [
        "from torch.utils.data import Dataset, DataLoader"
      ],
      "execution_count": 6,
      "outputs": []
    },
    {
      "cell_type": "code",
      "metadata": {
        "id": "qze33HzuNZmO"
      },
      "source": [
        "import torch.optim as optim"
      ],
      "execution_count": 7,
      "outputs": []
    },
    {
      "cell_type": "code",
      "metadata": {
        "id": "qn8P77FCoW1V"
      },
      "source": [
        "import warnings\n",
        "warnings.filterwarnings(\"ignore\")\n",
        "\n",
        "import os\n",
        "import gc\n",
        "import joblib\n",
        "import pandas as pd\n",
        "import numpy as np\n",
        "import tensorflow as tf\n",
        "from sklearn.model_selection import StratifiedKFold\n",
        "from sklearn import metrics, preprocessing\n",
        "from tensorflow.keras import layers\n",
        "from tensorflow.keras import optimizers\n",
        "from tensorflow.keras.models import Model, load_model\n",
        "from tensorflow.keras import callbacks\n",
        "from tensorflow.keras import backend as K\n",
        "from tensorflow.keras import utils"
      ],
      "execution_count": 8,
      "outputs": []
    },
    {
      "cell_type": "markdown",
      "metadata": {
        "id": "6syvN63eoW1V"
      },
      "source": [
        "### ----------------------------------- End of Python Packages -----------------------------------"
      ]
    },
    {
      "cell_type": "markdown",
      "metadata": {
        "id": "QptMnqRMoW1W"
      },
      "source": [
        "### ----------------------------------- Data Description -----------------------------------"
      ]
    },
    {
      "cell_type": "code",
      "metadata": {
        "id": "lZZJBq3ooW1W"
      },
      "source": [
        "# # read data and data description (For Local Environment)\n",
        "# origin_data = pd.read_csv('//Volumes//GoogleDrive//My Drive//Experiment//Data//Data_Categorical Attributes.csv')\n",
        "# origin_data.describe()\n",
        "# origin_data.head(100)"
      ],
      "execution_count": null,
      "outputs": []
    },
    {
      "cell_type": "code",
      "metadata": {
        "colab": {
          "base_uri": "https://localhost:8080/",
          "height": 439
        },
        "id": "Ga1M837Ep3Ew",
        "outputId": "370bf272-711f-4fa6-85a4-3a492d7dd8cf"
      },
      "source": [
        "# read data and data description (For Colab Environment)\n",
        "origin_data = pd.read_csv('//content//drive//My Drive//Experiment//Data//Data_Categorical Attributes - Oversampling.csv')\n",
        "origin_data.describe()\n",
        "origin_data.head(100)"
      ],
      "execution_count": 9,
      "outputs": [
        {
          "output_type": "execute_result",
          "data": {
            "text/html": [
              "<div>\n",
              "<style scoped>\n",
              "    .dataframe tbody tr th:only-of-type {\n",
              "        vertical-align: middle;\n",
              "    }\n",
              "\n",
              "    .dataframe tbody tr th {\n",
              "        vertical-align: top;\n",
              "    }\n",
              "\n",
              "    .dataframe thead th {\n",
              "        text-align: right;\n",
              "    }\n",
              "</style>\n",
              "<table border=\"1\" class=\"dataframe\">\n",
              "  <thead>\n",
              "    <tr style=\"text-align: right;\">\n",
              "      <th></th>\n",
              "      <th>GENDER</th>\n",
              "      <th>AGEGROUPVER2</th>\n",
              "      <th>CIVIL</th>\n",
              "      <th>EDUCATION</th>\n",
              "      <th>QUINT</th>\n",
              "      <th>WEALTH_INDEX</th>\n",
              "      <th>HSCORE</th>\n",
              "      <th>REGIME</th>\n",
              "      <th>RURALFIN</th>\n",
              "      <th>SMOKE</th>\n",
              "      <th>EXERCISE</th>\n",
              "      <th>DRINK</th>\n",
              "      <th>HEALTHUSE</th>\n",
              "      <th>POORHEALTH</th>\n",
              "      <th>GOODHEALTH</th>\n",
              "      <th>NADLGT0</th>\n",
              "      <th>NADLGT0_ALT</th>\n",
              "      <th>NIADLGT0</th>\n",
              "      <th>NADLGT0HARM</th>\n",
              "      <th>BATH</th>\n",
              "      <th>DRESS</th>\n",
              "      <th>TOILET</th>\n",
              "      <th>TRANSFER</th>\n",
              "      <th>BOW</th>\n",
              "      <th>HYPERTENSION</th>\n",
              "      <th>RESPIRATORY</th>\n",
              "      <th>HEART</th>\n",
              "      <th>STROKE</th>\n",
              "      <th>ARTHRITIS</th>\n",
              "      <th>NCHRONIC</th>\n",
              "      <th>WEIGHT</th>\n",
              "      <th>WAIST</th>\n",
              "      <th>HIP</th>\n",
              "      <th>BMI_CAT</th>\n",
              "      <th>OBESITY</th>\n",
              "      <th>DIABETES</th>\n",
              "    </tr>\n",
              "  </thead>\n",
              "  <tbody>\n",
              "    <tr>\n",
              "      <th>0</th>\n",
              "      <td>1</td>\n",
              "      <td>6</td>\n",
              "      <td>1</td>\n",
              "      <td>2</td>\n",
              "      <td>4</td>\n",
              "      <td>2</td>\n",
              "      <td>61</td>\n",
              "      <td>4</td>\n",
              "      <td>1</td>\n",
              "      <td>0</td>\n",
              "      <td>0</td>\n",
              "      <td>0</td>\n",
              "      <td>1</td>\n",
              "      <td>0</td>\n",
              "      <td>2</td>\n",
              "      <td>0</td>\n",
              "      <td>1</td>\n",
              "      <td>1</td>\n",
              "      <td>0</td>\n",
              "      <td>0</td>\n",
              "      <td>0</td>\n",
              "      <td>0</td>\n",
              "      <td>0</td>\n",
              "      <td>1</td>\n",
              "      <td>1</td>\n",
              "      <td>0</td>\n",
              "      <td>0</td>\n",
              "      <td>0</td>\n",
              "      <td>0</td>\n",
              "      <td>0</td>\n",
              "      <td>4</td>\n",
              "      <td>4</td>\n",
              "      <td>4</td>\n",
              "      <td>5</td>\n",
              "      <td>1</td>\n",
              "      <td>0</td>\n",
              "    </tr>\n",
              "    <tr>\n",
              "      <th>1</th>\n",
              "      <td>1</td>\n",
              "      <td>5</td>\n",
              "      <td>1</td>\n",
              "      <td>2</td>\n",
              "      <td>5</td>\n",
              "      <td>3</td>\n",
              "      <td>144</td>\n",
              "      <td>5</td>\n",
              "      <td>1</td>\n",
              "      <td>0</td>\n",
              "      <td>0</td>\n",
              "      <td>0</td>\n",
              "      <td>1</td>\n",
              "      <td>1</td>\n",
              "      <td>2</td>\n",
              "      <td>0</td>\n",
              "      <td>1</td>\n",
              "      <td>0</td>\n",
              "      <td>0</td>\n",
              "      <td>0</td>\n",
              "      <td>0</td>\n",
              "      <td>0</td>\n",
              "      <td>0</td>\n",
              "      <td>0</td>\n",
              "      <td>0</td>\n",
              "      <td>0</td>\n",
              "      <td>0</td>\n",
              "      <td>0</td>\n",
              "      <td>1</td>\n",
              "      <td>1</td>\n",
              "      <td>3</td>\n",
              "      <td>3</td>\n",
              "      <td>3</td>\n",
              "      <td>3</td>\n",
              "      <td>0</td>\n",
              "      <td>0</td>\n",
              "    </tr>\n",
              "    <tr>\n",
              "      <th>2</th>\n",
              "      <td>1</td>\n",
              "      <td>5</td>\n",
              "      <td>1</td>\n",
              "      <td>1</td>\n",
              "      <td>2</td>\n",
              "      <td>1</td>\n",
              "      <td>144</td>\n",
              "      <td>5</td>\n",
              "      <td>1</td>\n",
              "      <td>0</td>\n",
              "      <td>0</td>\n",
              "      <td>0</td>\n",
              "      <td>1</td>\n",
              "      <td>1</td>\n",
              "      <td>1</td>\n",
              "      <td>0</td>\n",
              "      <td>0</td>\n",
              "      <td>0</td>\n",
              "      <td>0</td>\n",
              "      <td>0</td>\n",
              "      <td>0</td>\n",
              "      <td>0</td>\n",
              "      <td>0</td>\n",
              "      <td>0</td>\n",
              "      <td>0</td>\n",
              "      <td>0</td>\n",
              "      <td>0</td>\n",
              "      <td>0</td>\n",
              "      <td>0</td>\n",
              "      <td>0</td>\n",
              "      <td>1</td>\n",
              "      <td>1</td>\n",
              "      <td>1</td>\n",
              "      <td>2</td>\n",
              "      <td>0</td>\n",
              "      <td>0</td>\n",
              "    </tr>\n",
              "    <tr>\n",
              "      <th>3</th>\n",
              "      <td>1</td>\n",
              "      <td>6</td>\n",
              "      <td>3</td>\n",
              "      <td>2</td>\n",
              "      <td>1</td>\n",
              "      <td>2</td>\n",
              "      <td>39</td>\n",
              "      <td>2</td>\n",
              "      <td>0</td>\n",
              "      <td>0</td>\n",
              "      <td>0</td>\n",
              "      <td>0</td>\n",
              "      <td>1</td>\n",
              "      <td>0</td>\n",
              "      <td>2</td>\n",
              "      <td>0</td>\n",
              "      <td>0</td>\n",
              "      <td>0</td>\n",
              "      <td>0</td>\n",
              "      <td>0</td>\n",
              "      <td>0</td>\n",
              "      <td>0</td>\n",
              "      <td>0</td>\n",
              "      <td>0</td>\n",
              "      <td>0</td>\n",
              "      <td>1</td>\n",
              "      <td>1</td>\n",
              "      <td>0</td>\n",
              "      <td>1</td>\n",
              "      <td>3</td>\n",
              "      <td>2</td>\n",
              "      <td>2</td>\n",
              "      <td>3</td>\n",
              "      <td>4</td>\n",
              "      <td>0</td>\n",
              "      <td>0</td>\n",
              "    </tr>\n",
              "    <tr>\n",
              "      <th>4</th>\n",
              "      <td>0</td>\n",
              "      <td>3</td>\n",
              "      <td>1</td>\n",
              "      <td>2</td>\n",
              "      <td>3</td>\n",
              "      <td>3</td>\n",
              "      <td>144</td>\n",
              "      <td>5</td>\n",
              "      <td>1</td>\n",
              "      <td>1</td>\n",
              "      <td>0</td>\n",
              "      <td>0</td>\n",
              "      <td>1</td>\n",
              "      <td>0</td>\n",
              "      <td>3</td>\n",
              "      <td>0</td>\n",
              "      <td>0</td>\n",
              "      <td>0</td>\n",
              "      <td>0</td>\n",
              "      <td>0</td>\n",
              "      <td>0</td>\n",
              "      <td>0</td>\n",
              "      <td>0</td>\n",
              "      <td>0</td>\n",
              "      <td>0</td>\n",
              "      <td>0</td>\n",
              "      <td>0</td>\n",
              "      <td>0</td>\n",
              "      <td>0</td>\n",
              "      <td>0</td>\n",
              "      <td>3</td>\n",
              "      <td>1</td>\n",
              "      <td>2</td>\n",
              "      <td>3</td>\n",
              "      <td>0</td>\n",
              "      <td>0</td>\n",
              "    </tr>\n",
              "    <tr>\n",
              "      <th>...</th>\n",
              "      <td>...</td>\n",
              "      <td>...</td>\n",
              "      <td>...</td>\n",
              "      <td>...</td>\n",
              "      <td>...</td>\n",
              "      <td>...</td>\n",
              "      <td>...</td>\n",
              "      <td>...</td>\n",
              "      <td>...</td>\n",
              "      <td>...</td>\n",
              "      <td>...</td>\n",
              "      <td>...</td>\n",
              "      <td>...</td>\n",
              "      <td>...</td>\n",
              "      <td>...</td>\n",
              "      <td>...</td>\n",
              "      <td>...</td>\n",
              "      <td>...</td>\n",
              "      <td>...</td>\n",
              "      <td>...</td>\n",
              "      <td>...</td>\n",
              "      <td>...</td>\n",
              "      <td>...</td>\n",
              "      <td>...</td>\n",
              "      <td>...</td>\n",
              "      <td>...</td>\n",
              "      <td>...</td>\n",
              "      <td>...</td>\n",
              "      <td>...</td>\n",
              "      <td>...</td>\n",
              "      <td>...</td>\n",
              "      <td>...</td>\n",
              "      <td>...</td>\n",
              "      <td>...</td>\n",
              "      <td>...</td>\n",
              "      <td>...</td>\n",
              "    </tr>\n",
              "    <tr>\n",
              "      <th>95</th>\n",
              "      <td>0</td>\n",
              "      <td>3</td>\n",
              "      <td>4</td>\n",
              "      <td>3</td>\n",
              "      <td>3</td>\n",
              "      <td>3</td>\n",
              "      <td>130</td>\n",
              "      <td>4</td>\n",
              "      <td>1</td>\n",
              "      <td>1</td>\n",
              "      <td>1</td>\n",
              "      <td>1</td>\n",
              "      <td>0</td>\n",
              "      <td>0</td>\n",
              "      <td>2</td>\n",
              "      <td>0</td>\n",
              "      <td>0</td>\n",
              "      <td>0</td>\n",
              "      <td>0</td>\n",
              "      <td>0</td>\n",
              "      <td>0</td>\n",
              "      <td>0</td>\n",
              "      <td>0</td>\n",
              "      <td>0</td>\n",
              "      <td>0</td>\n",
              "      <td>0</td>\n",
              "      <td>0</td>\n",
              "      <td>0</td>\n",
              "      <td>0</td>\n",
              "      <td>0</td>\n",
              "      <td>3</td>\n",
              "      <td>1</td>\n",
              "      <td>3</td>\n",
              "      <td>4</td>\n",
              "      <td>0</td>\n",
              "      <td>0</td>\n",
              "    </tr>\n",
              "    <tr>\n",
              "      <th>96</th>\n",
              "      <td>0</td>\n",
              "      <td>4</td>\n",
              "      <td>4</td>\n",
              "      <td>3</td>\n",
              "      <td>5</td>\n",
              "      <td>3</td>\n",
              "      <td>175</td>\n",
              "      <td>3</td>\n",
              "      <td>0</td>\n",
              "      <td>0</td>\n",
              "      <td>0</td>\n",
              "      <td>0</td>\n",
              "      <td>0</td>\n",
              "      <td>0</td>\n",
              "      <td>3</td>\n",
              "      <td>0</td>\n",
              "      <td>1</td>\n",
              "      <td>0</td>\n",
              "      <td>0</td>\n",
              "      <td>0</td>\n",
              "      <td>0</td>\n",
              "      <td>0</td>\n",
              "      <td>0</td>\n",
              "      <td>1</td>\n",
              "      <td>0</td>\n",
              "      <td>0</td>\n",
              "      <td>0</td>\n",
              "      <td>0</td>\n",
              "      <td>0</td>\n",
              "      <td>0</td>\n",
              "      <td>4</td>\n",
              "      <td>2</td>\n",
              "      <td>3</td>\n",
              "      <td>3</td>\n",
              "      <td>0</td>\n",
              "      <td>0</td>\n",
              "    </tr>\n",
              "    <tr>\n",
              "      <th>97</th>\n",
              "      <td>1</td>\n",
              "      <td>5</td>\n",
              "      <td>4</td>\n",
              "      <td>3</td>\n",
              "      <td>3</td>\n",
              "      <td>3</td>\n",
              "      <td>65</td>\n",
              "      <td>2</td>\n",
              "      <td>0</td>\n",
              "      <td>0</td>\n",
              "      <td>0</td>\n",
              "      <td>0</td>\n",
              "      <td>1</td>\n",
              "      <td>0</td>\n",
              "      <td>2</td>\n",
              "      <td>0</td>\n",
              "      <td>1</td>\n",
              "      <td>0</td>\n",
              "      <td>0</td>\n",
              "      <td>0</td>\n",
              "      <td>0</td>\n",
              "      <td>0</td>\n",
              "      <td>0</td>\n",
              "      <td>0</td>\n",
              "      <td>1</td>\n",
              "      <td>0</td>\n",
              "      <td>1</td>\n",
              "      <td>0</td>\n",
              "      <td>1</td>\n",
              "      <td>2</td>\n",
              "      <td>4</td>\n",
              "      <td>3</td>\n",
              "      <td>4</td>\n",
              "      <td>5</td>\n",
              "      <td>1</td>\n",
              "      <td>0</td>\n",
              "    </tr>\n",
              "    <tr>\n",
              "      <th>98</th>\n",
              "      <td>1</td>\n",
              "      <td>6</td>\n",
              "      <td>4</td>\n",
              "      <td>2</td>\n",
              "      <td>2</td>\n",
              "      <td>2</td>\n",
              "      <td>33</td>\n",
              "      <td>3</td>\n",
              "      <td>1</td>\n",
              "      <td>0</td>\n",
              "      <td>0</td>\n",
              "      <td>0</td>\n",
              "      <td>1</td>\n",
              "      <td>0</td>\n",
              "      <td>2</td>\n",
              "      <td>0</td>\n",
              "      <td>1</td>\n",
              "      <td>0</td>\n",
              "      <td>0</td>\n",
              "      <td>0</td>\n",
              "      <td>0</td>\n",
              "      <td>0</td>\n",
              "      <td>0</td>\n",
              "      <td>1</td>\n",
              "      <td>1</td>\n",
              "      <td>1</td>\n",
              "      <td>0</td>\n",
              "      <td>0</td>\n",
              "      <td>0</td>\n",
              "      <td>2</td>\n",
              "      <td>3</td>\n",
              "      <td>4</td>\n",
              "      <td>4</td>\n",
              "      <td>5</td>\n",
              "      <td>1</td>\n",
              "      <td>1</td>\n",
              "    </tr>\n",
              "    <tr>\n",
              "      <th>99</th>\n",
              "      <td>1</td>\n",
              "      <td>2</td>\n",
              "      <td>1</td>\n",
              "      <td>2</td>\n",
              "      <td>4</td>\n",
              "      <td>2</td>\n",
              "      <td>112</td>\n",
              "      <td>5</td>\n",
              "      <td>1</td>\n",
              "      <td>0</td>\n",
              "      <td>0</td>\n",
              "      <td>0</td>\n",
              "      <td>1</td>\n",
              "      <td>0</td>\n",
              "      <td>2</td>\n",
              "      <td>1</td>\n",
              "      <td>1</td>\n",
              "      <td>0</td>\n",
              "      <td>1</td>\n",
              "      <td>0</td>\n",
              "      <td>0</td>\n",
              "      <td>0</td>\n",
              "      <td>1</td>\n",
              "      <td>1</td>\n",
              "      <td>0</td>\n",
              "      <td>0</td>\n",
              "      <td>1</td>\n",
              "      <td>0</td>\n",
              "      <td>0</td>\n",
              "      <td>0</td>\n",
              "      <td>1</td>\n",
              "      <td>1</td>\n",
              "      <td>1</td>\n",
              "      <td>3</td>\n",
              "      <td>0</td>\n",
              "      <td>0</td>\n",
              "    </tr>\n",
              "  </tbody>\n",
              "</table>\n",
              "<p>100 rows × 36 columns</p>\n",
              "</div>"
            ],
            "text/plain": [
              "    GENDER  AGEGROUPVER2  CIVIL  EDUCATION  ...  HIP  BMI_CAT  OBESITY  DIABETES\n",
              "0        1             6      1          2  ...    4        5        1         0\n",
              "1        1             5      1          2  ...    3        3        0         0\n",
              "2        1             5      1          1  ...    1        2        0         0\n",
              "3        1             6      3          2  ...    3        4        0         0\n",
              "4        0             3      1          2  ...    2        3        0         0\n",
              "..     ...           ...    ...        ...  ...  ...      ...      ...       ...\n",
              "95       0             3      4          3  ...    3        4        0         0\n",
              "96       0             4      4          3  ...    3        3        0         0\n",
              "97       1             5      4          3  ...    4        5        1         0\n",
              "98       1             6      4          2  ...    4        5        1         1\n",
              "99       1             2      1          2  ...    1        3        0         0\n",
              "\n",
              "[100 rows x 36 columns]"
            ]
          },
          "metadata": {},
          "execution_count": 9
        }
      ]
    },
    {
      "cell_type": "code",
      "metadata": {
        "colab": {
          "base_uri": "https://localhost:8080/",
          "height": 317
        },
        "id": "Nv8BAG6AoW1X",
        "outputId": "183898fb-19f6-48b6-dbf9-833d24a866f4"
      },
      "source": [
        "origin_data.describe()"
      ],
      "execution_count": 10,
      "outputs": [
        {
          "output_type": "execute_result",
          "data": {
            "text/html": [
              "<div>\n",
              "<style scoped>\n",
              "    .dataframe tbody tr th:only-of-type {\n",
              "        vertical-align: middle;\n",
              "    }\n",
              "\n",
              "    .dataframe tbody tr th {\n",
              "        vertical-align: top;\n",
              "    }\n",
              "\n",
              "    .dataframe thead th {\n",
              "        text-align: right;\n",
              "    }\n",
              "</style>\n",
              "<table border=\"1\" class=\"dataframe\">\n",
              "  <thead>\n",
              "    <tr style=\"text-align: right;\">\n",
              "      <th></th>\n",
              "      <th>GENDER</th>\n",
              "      <th>AGEGROUPVER2</th>\n",
              "      <th>CIVIL</th>\n",
              "      <th>EDUCATION</th>\n",
              "      <th>QUINT</th>\n",
              "      <th>WEALTH_INDEX</th>\n",
              "      <th>HSCORE</th>\n",
              "      <th>REGIME</th>\n",
              "      <th>RURALFIN</th>\n",
              "      <th>SMOKE</th>\n",
              "      <th>EXERCISE</th>\n",
              "      <th>DRINK</th>\n",
              "      <th>HEALTHUSE</th>\n",
              "      <th>POORHEALTH</th>\n",
              "      <th>GOODHEALTH</th>\n",
              "      <th>NADLGT0</th>\n",
              "      <th>NADLGT0_ALT</th>\n",
              "      <th>NIADLGT0</th>\n",
              "      <th>NADLGT0HARM</th>\n",
              "      <th>BATH</th>\n",
              "      <th>DRESS</th>\n",
              "      <th>TOILET</th>\n",
              "      <th>TRANSFER</th>\n",
              "      <th>BOW</th>\n",
              "      <th>HYPERTENSION</th>\n",
              "      <th>RESPIRATORY</th>\n",
              "      <th>HEART</th>\n",
              "      <th>STROKE</th>\n",
              "      <th>ARTHRITIS</th>\n",
              "      <th>NCHRONIC</th>\n",
              "      <th>WEIGHT</th>\n",
              "      <th>WAIST</th>\n",
              "      <th>HIP</th>\n",
              "      <th>BMI_CAT</th>\n",
              "      <th>OBESITY</th>\n",
              "      <th>DIABETES</th>\n",
              "    </tr>\n",
              "  </thead>\n",
              "  <tbody>\n",
              "    <tr>\n",
              "      <th>count</th>\n",
              "      <td>41702.000000</td>\n",
              "      <td>41702.000000</td>\n",
              "      <td>41702.000000</td>\n",
              "      <td>41702.000000</td>\n",
              "      <td>41702.000000</td>\n",
              "      <td>41702.000000</td>\n",
              "      <td>41702.000000</td>\n",
              "      <td>41702.000000</td>\n",
              "      <td>41702.000000</td>\n",
              "      <td>41702.000000</td>\n",
              "      <td>41702.000000</td>\n",
              "      <td>41702.000000</td>\n",
              "      <td>41702.000000</td>\n",
              "      <td>41702.00000</td>\n",
              "      <td>41702.000000</td>\n",
              "      <td>41702.000000</td>\n",
              "      <td>41702.000000</td>\n",
              "      <td>41702.000000</td>\n",
              "      <td>41702.000000</td>\n",
              "      <td>41702.000000</td>\n",
              "      <td>41702.000000</td>\n",
              "      <td>41702.000000</td>\n",
              "      <td>41702.000000</td>\n",
              "      <td>41702.000000</td>\n",
              "      <td>41702.000000</td>\n",
              "      <td>41702.000000</td>\n",
              "      <td>41702.000000</td>\n",
              "      <td>41702.000000</td>\n",
              "      <td>41702.000000</td>\n",
              "      <td>41702.000000</td>\n",
              "      <td>41702.000000</td>\n",
              "      <td>41702.000000</td>\n",
              "      <td>41702.000000</td>\n",
              "      <td>41702.000000</td>\n",
              "      <td>41702.000000</td>\n",
              "      <td>41702.000000</td>\n",
              "    </tr>\n",
              "    <tr>\n",
              "      <th>mean</th>\n",
              "      <td>0.588653</td>\n",
              "      <td>4.898806</td>\n",
              "      <td>2.036641</td>\n",
              "      <td>2.211357</td>\n",
              "      <td>3.066639</td>\n",
              "      <td>2.277541</td>\n",
              "      <td>107.111074</td>\n",
              "      <td>4.111410</td>\n",
              "      <td>0.513908</td>\n",
              "      <td>0.370078</td>\n",
              "      <td>0.241787</td>\n",
              "      <td>0.324181</td>\n",
              "      <td>0.758261</td>\n",
              "      <td>0.37684</td>\n",
              "      <td>1.959283</td>\n",
              "      <td>0.182126</td>\n",
              "      <td>0.653182</td>\n",
              "      <td>0.305717</td>\n",
              "      <td>0.158649</td>\n",
              "      <td>0.058151</td>\n",
              "      <td>0.071915</td>\n",
              "      <td>0.051269</td>\n",
              "      <td>0.101362</td>\n",
              "      <td>0.348736</td>\n",
              "      <td>0.445782</td>\n",
              "      <td>0.084217</td>\n",
              "      <td>0.206177</td>\n",
              "      <td>0.052539</td>\n",
              "      <td>0.307347</td>\n",
              "      <td>1.358112</td>\n",
              "      <td>2.735073</td>\n",
              "      <td>2.732723</td>\n",
              "      <td>2.693300</td>\n",
              "      <td>3.636252</td>\n",
              "      <td>0.206489</td>\n",
              "      <td>0.489377</td>\n",
              "    </tr>\n",
              "    <tr>\n",
              "      <th>std</th>\n",
              "      <td>0.492084</td>\n",
              "      <td>1.849217</td>\n",
              "      <td>1.428907</td>\n",
              "      <td>0.896894</td>\n",
              "      <td>1.418546</td>\n",
              "      <td>0.733200</td>\n",
              "      <td>43.254443</td>\n",
              "      <td>1.007304</td>\n",
              "      <td>0.499813</td>\n",
              "      <td>0.482831</td>\n",
              "      <td>0.428171</td>\n",
              "      <td>0.468074</td>\n",
              "      <td>0.428142</td>\n",
              "      <td>0.48460</td>\n",
              "      <td>0.735505</td>\n",
              "      <td>0.385953</td>\n",
              "      <td>0.475963</td>\n",
              "      <td>0.460716</td>\n",
              "      <td>0.365353</td>\n",
              "      <td>0.234031</td>\n",
              "      <td>0.258350</td>\n",
              "      <td>0.220548</td>\n",
              "      <td>0.301811</td>\n",
              "      <td>0.476576</td>\n",
              "      <td>0.497058</td>\n",
              "      <td>0.277716</td>\n",
              "      <td>0.404564</td>\n",
              "      <td>0.223115</td>\n",
              "      <td>0.461400</td>\n",
              "      <td>1.143794</td>\n",
              "      <td>1.064198</td>\n",
              "      <td>1.091912</td>\n",
              "      <td>1.096606</td>\n",
              "      <td>0.941202</td>\n",
              "      <td>0.404790</td>\n",
              "      <td>0.499893</td>\n",
              "    </tr>\n",
              "    <tr>\n",
              "      <th>min</th>\n",
              "      <td>0.000000</td>\n",
              "      <td>2.000000</td>\n",
              "      <td>1.000000</td>\n",
              "      <td>1.000000</td>\n",
              "      <td>1.000000</td>\n",
              "      <td>1.000000</td>\n",
              "      <td>33.000000</td>\n",
              "      <td>2.000000</td>\n",
              "      <td>0.000000</td>\n",
              "      <td>0.000000</td>\n",
              "      <td>0.000000</td>\n",
              "      <td>0.000000</td>\n",
              "      <td>0.000000</td>\n",
              "      <td>0.00000</td>\n",
              "      <td>1.000000</td>\n",
              "      <td>0.000000</td>\n",
              "      <td>0.000000</td>\n",
              "      <td>0.000000</td>\n",
              "      <td>0.000000</td>\n",
              "      <td>0.000000</td>\n",
              "      <td>0.000000</td>\n",
              "      <td>0.000000</td>\n",
              "      <td>0.000000</td>\n",
              "      <td>0.000000</td>\n",
              "      <td>0.000000</td>\n",
              "      <td>0.000000</td>\n",
              "      <td>0.000000</td>\n",
              "      <td>0.000000</td>\n",
              "      <td>0.000000</td>\n",
              "      <td>0.000000</td>\n",
              "      <td>1.000000</td>\n",
              "      <td>1.000000</td>\n",
              "      <td>1.000000</td>\n",
              "      <td>1.000000</td>\n",
              "      <td>0.000000</td>\n",
              "      <td>0.000000</td>\n",
              "    </tr>\n",
              "    <tr>\n",
              "      <th>25%</th>\n",
              "      <td>0.000000</td>\n",
              "      <td>4.000000</td>\n",
              "      <td>1.000000</td>\n",
              "      <td>2.000000</td>\n",
              "      <td>2.000000</td>\n",
              "      <td>2.000000</td>\n",
              "      <td>61.000000</td>\n",
              "      <td>4.000000</td>\n",
              "      <td>0.000000</td>\n",
              "      <td>0.000000</td>\n",
              "      <td>0.000000</td>\n",
              "      <td>0.000000</td>\n",
              "      <td>1.000000</td>\n",
              "      <td>0.00000</td>\n",
              "      <td>1.000000</td>\n",
              "      <td>0.000000</td>\n",
              "      <td>0.000000</td>\n",
              "      <td>0.000000</td>\n",
              "      <td>0.000000</td>\n",
              "      <td>0.000000</td>\n",
              "      <td>0.000000</td>\n",
              "      <td>0.000000</td>\n",
              "      <td>0.000000</td>\n",
              "      <td>0.000000</td>\n",
              "      <td>0.000000</td>\n",
              "      <td>0.000000</td>\n",
              "      <td>0.000000</td>\n",
              "      <td>0.000000</td>\n",
              "      <td>0.000000</td>\n",
              "      <td>0.000000</td>\n",
              "      <td>2.000000</td>\n",
              "      <td>2.000000</td>\n",
              "      <td>2.000000</td>\n",
              "      <td>3.000000</td>\n",
              "      <td>0.000000</td>\n",
              "      <td>0.000000</td>\n",
              "    </tr>\n",
              "    <tr>\n",
              "      <th>50%</th>\n",
              "      <td>1.000000</td>\n",
              "      <td>5.000000</td>\n",
              "      <td>1.000000</td>\n",
              "      <td>2.000000</td>\n",
              "      <td>3.000000</td>\n",
              "      <td>2.000000</td>\n",
              "      <td>125.000000</td>\n",
              "      <td>4.000000</td>\n",
              "      <td>1.000000</td>\n",
              "      <td>0.000000</td>\n",
              "      <td>0.000000</td>\n",
              "      <td>0.000000</td>\n",
              "      <td>1.000000</td>\n",
              "      <td>0.00000</td>\n",
              "      <td>2.000000</td>\n",
              "      <td>0.000000</td>\n",
              "      <td>1.000000</td>\n",
              "      <td>0.000000</td>\n",
              "      <td>0.000000</td>\n",
              "      <td>0.000000</td>\n",
              "      <td>0.000000</td>\n",
              "      <td>0.000000</td>\n",
              "      <td>0.000000</td>\n",
              "      <td>0.000000</td>\n",
              "      <td>0.000000</td>\n",
              "      <td>0.000000</td>\n",
              "      <td>0.000000</td>\n",
              "      <td>0.000000</td>\n",
              "      <td>0.000000</td>\n",
              "      <td>1.000000</td>\n",
              "      <td>3.000000</td>\n",
              "      <td>3.000000</td>\n",
              "      <td>3.000000</td>\n",
              "      <td>4.000000</td>\n",
              "      <td>0.000000</td>\n",
              "      <td>0.000000</td>\n",
              "    </tr>\n",
              "    <tr>\n",
              "      <th>75%</th>\n",
              "      <td>1.000000</td>\n",
              "      <td>6.000000</td>\n",
              "      <td>4.000000</td>\n",
              "      <td>3.000000</td>\n",
              "      <td>4.000000</td>\n",
              "      <td>3.000000</td>\n",
              "      <td>144.000000</td>\n",
              "      <td>5.000000</td>\n",
              "      <td>1.000000</td>\n",
              "      <td>1.000000</td>\n",
              "      <td>0.000000</td>\n",
              "      <td>1.000000</td>\n",
              "      <td>1.000000</td>\n",
              "      <td>1.00000</td>\n",
              "      <td>3.000000</td>\n",
              "      <td>0.000000</td>\n",
              "      <td>1.000000</td>\n",
              "      <td>1.000000</td>\n",
              "      <td>0.000000</td>\n",
              "      <td>0.000000</td>\n",
              "      <td>0.000000</td>\n",
              "      <td>0.000000</td>\n",
              "      <td>0.000000</td>\n",
              "      <td>1.000000</td>\n",
              "      <td>1.000000</td>\n",
              "      <td>0.000000</td>\n",
              "      <td>0.000000</td>\n",
              "      <td>0.000000</td>\n",
              "      <td>1.000000</td>\n",
              "      <td>2.000000</td>\n",
              "      <td>4.000000</td>\n",
              "      <td>4.000000</td>\n",
              "      <td>4.000000</td>\n",
              "      <td>4.000000</td>\n",
              "      <td>0.000000</td>\n",
              "      <td>1.000000</td>\n",
              "    </tr>\n",
              "    <tr>\n",
              "      <th>max</th>\n",
              "      <td>1.000000</td>\n",
              "      <td>9.000000</td>\n",
              "      <td>5.000000</td>\n",
              "      <td>4.000000</td>\n",
              "      <td>5.000000</td>\n",
              "      <td>3.000000</td>\n",
              "      <td>175.000000</td>\n",
              "      <td>5.000000</td>\n",
              "      <td>1.000000</td>\n",
              "      <td>1.000000</td>\n",
              "      <td>1.000000</td>\n",
              "      <td>1.000000</td>\n",
              "      <td>1.000000</td>\n",
              "      <td>1.00000</td>\n",
              "      <td>3.000000</td>\n",
              "      <td>1.000000</td>\n",
              "      <td>1.000000</td>\n",
              "      <td>1.000000</td>\n",
              "      <td>1.000000</td>\n",
              "      <td>1.000000</td>\n",
              "      <td>1.000000</td>\n",
              "      <td>1.000000</td>\n",
              "      <td>1.000000</td>\n",
              "      <td>1.000000</td>\n",
              "      <td>1.000000</td>\n",
              "      <td>1.000000</td>\n",
              "      <td>1.000000</td>\n",
              "      <td>1.000000</td>\n",
              "      <td>1.000000</td>\n",
              "      <td>6.000000</td>\n",
              "      <td>4.000000</td>\n",
              "      <td>4.000000</td>\n",
              "      <td>4.000000</td>\n",
              "      <td>5.000000</td>\n",
              "      <td>1.000000</td>\n",
              "      <td>1.000000</td>\n",
              "    </tr>\n",
              "  </tbody>\n",
              "</table>\n",
              "</div>"
            ],
            "text/plain": [
              "             GENDER  AGEGROUPVER2  ...       OBESITY      DIABETES\n",
              "count  41702.000000  41702.000000  ...  41702.000000  41702.000000\n",
              "mean       0.588653      4.898806  ...      0.206489      0.489377\n",
              "std        0.492084      1.849217  ...      0.404790      0.499893\n",
              "min        0.000000      2.000000  ...      0.000000      0.000000\n",
              "25%        0.000000      4.000000  ...      0.000000      0.000000\n",
              "50%        1.000000      5.000000  ...      0.000000      0.000000\n",
              "75%        1.000000      6.000000  ...      0.000000      1.000000\n",
              "max        1.000000      9.000000  ...      1.000000      1.000000\n",
              "\n",
              "[8 rows x 36 columns]"
            ]
          },
          "metadata": {},
          "execution_count": 10
        }
      ]
    },
    {
      "cell_type": "code",
      "metadata": {
        "colab": {
          "base_uri": "https://localhost:8080/",
          "height": 296
        },
        "id": "miARYNrooW1X",
        "outputId": "50fa00e8-d609-4d3e-cff3-5f0d33113ced"
      },
      "source": [
        "sns.countplot(x = 'QUINT', data=origin_data)"
      ],
      "execution_count": 11,
      "outputs": [
        {
          "output_type": "execute_result",
          "data": {
            "text/plain": [
              "<matplotlib.axes._subplots.AxesSubplot at 0x7f6885e54390>"
            ]
          },
          "metadata": {},
          "execution_count": 11
        },
        {
          "output_type": "display_data",
          "data": {
            "image/png": "[encoded data removed]",
            "text/plain": [
              "<Figure size 432x288 with 1 Axes>"
            ]
          },
          "metadata": {
            "needs_background": "light"
          }
        }
      ]
    },
    {
      "cell_type": "markdown",
      "metadata": {
        "id": "9YGqiYbcoW1Y"
      },
      "source": [
        "### ----------------------------------- End of Data Description -----------------------------------"
      ]
    },
    {
      "cell_type": "markdown",
      "metadata": {
        "id": "KKAraQdtoW1Z"
      },
      "source": [
        "### ----------------------------------- Diabetes-based CF -----------------------------------"
      ]
    },
    {
      "cell_type": "code",
      "metadata": {
        "id": "zV8SJaQroW1Z"
      },
      "source": [
        "item_df = pd.DataFrame(origin_data)"
      ],
      "execution_count": null,
      "outputs": []
    },
    {
      "cell_type": "markdown",
      "metadata": {
        "id": "1I9OsufdoW1Z"
      },
      "source": [
        "### DBCF_data represent the columns which used for CF\n",
        "### 只有GOODHEALTH，WAIST和HIP有缺失值，其中WAIST和HIP的表示形式是NULL，GOODHEALTH是0.0"
      ]
    },
    {
      "cell_type": "code",
      "metadata": {
        "id": "uwgeN05coW1a"
      },
      "source": [
        "DBCF_data = item_df[['HSCORE','GOODHEALTH','WEIGHT','WAIST','HIP','BMI']]"
      ],
      "execution_count": null,
      "outputs": []
    },
    {
      "cell_type": "code",
      "metadata": {
        "id": "wpL1Cp-moW1a",
        "outputId": "2ef9d2e7-64bf-4a57-bd7b-2612c85bbd62"
      },
      "source": [
        "current.head(1000)"
      ],
      "execution_count": null,
      "outputs": [
        {
          "data": {
            "text/html": [
              "<div>\n",
              "<style scoped>\n",
              "    .dataframe tbody tr th:only-of-type {\n",
              "        vertical-align: middle;\n",
              "    }\n",
              "\n",
              "    .dataframe tbody tr th {\n",
              "        vertical-align: top;\n",
              "    }\n",
              "\n",
              "    .dataframe thead th {\n",
              "        text-align: right;\n",
              "    }\n",
              "</style>\n",
              "<table border=\"1\" class=\"dataframe\">\n",
              "  <thead>\n",
              "    <tr style=\"text-align: right;\">\n",
              "      <th></th>\n",
              "      <th>HSCORE</th>\n",
              "      <th>GOODHEALTH</th>\n",
              "      <th>WEIGHT</th>\n",
              "      <th>WAIST</th>\n",
              "      <th>HIP</th>\n",
              "      <th>BMI</th>\n",
              "    </tr>\n",
              "  </thead>\n",
              "  <tbody>\n",
              "    <tr>\n",
              "      <th>0</th>\n",
              "      <td>61</td>\n",
              "      <td>66.6667</td>\n",
              "      <td>93.0</td>\n",
              "      <td>131.0000</td>\n",
              "      <td>129.0000</td>\n",
              "      <td>43.62920</td>\n",
              "    </tr>\n",
              "    <tr>\n",
              "      <th>1</th>\n",
              "      <td>144</td>\n",
              "      <td>66.6667</td>\n",
              "      <td>65.5</td>\n",
              "      <td>88.0000</td>\n",
              "      <td>100.0000</td>\n",
              "      <td>24.65279</td>\n",
              "    </tr>\n",
              "    <tr>\n",
              "      <th>2</th>\n",
              "      <td>144</td>\n",
              "      <td>50.0000</td>\n",
              "      <td>32.0</td>\n",
              "      <td>64.2000</td>\n",
              "      <td>84.4000</td>\n",
              "      <td>17.25027</td>\n",
              "    </tr>\n",
              "    <tr>\n",
              "      <th>3</th>\n",
              "      <td>39</td>\n",
              "      <td>83.3333</td>\n",
              "      <td>53.0</td>\n",
              "      <td>87.0000</td>\n",
              "      <td>97.0000</td>\n",
              "      <td>25.20809</td>\n",
              "    </tr>\n",
              "    <tr>\n",
              "      <th>4</th>\n",
              "      <td>144</td>\n",
              "      <td>100.0000</td>\n",
              "      <td>69.0</td>\n",
              "      <td>76.5000</td>\n",
              "      <td>90.5000</td>\n",
              "      <td>23.65230</td>\n",
              "    </tr>\n",
              "    <tr>\n",
              "      <th>...</th>\n",
              "      <td>...</td>\n",
              "      <td>...</td>\n",
              "      <td>...</td>\n",
              "      <td>...</td>\n",
              "      <td>...</td>\n",
              "      <td>...</td>\n",
              "    </tr>\n",
              "    <tr>\n",
              "      <th>995</th>\n",
              "      <td>135</td>\n",
              "      <td>66.6667</td>\n",
              "      <td>51.0</td>\n",
              "      <td>84.0000</td>\n",
              "      <td>99.0000</td>\n",
              "      <td>22.22005</td>\n",
              "    </tr>\n",
              "    <tr>\n",
              "      <th>996</th>\n",
              "      <td>33</td>\n",
              "      <td>100.0000</td>\n",
              "      <td>55.0</td>\n",
              "      <td>83.0000</td>\n",
              "      <td>96.0000</td>\n",
              "      <td>24.60823</td>\n",
              "    </tr>\n",
              "    <tr>\n",
              "      <th>997</th>\n",
              "      <td>46</td>\n",
              "      <td>100.0000</td>\n",
              "      <td>74.0</td>\n",
              "      <td>94.0000</td>\n",
              "      <td>105.0000</td>\n",
              "      <td>24.44180</td>\n",
              "    </tr>\n",
              "    <tr>\n",
              "      <th>998</th>\n",
              "      <td>61</td>\n",
              "      <td>66.6667</td>\n",
              "      <td>81.4</td>\n",
              "      <td>111.4000</td>\n",
              "      <td>101.8000</td>\n",
              "      <td>32.36071</td>\n",
              "    </tr>\n",
              "    <tr>\n",
              "      <th>999</th>\n",
              "      <td>112</td>\n",
              "      <td>83.3333</td>\n",
              "      <td>73.0</td>\n",
              "      <td>108.0000</td>\n",
              "      <td>118.3000</td>\n",
              "      <td>29.61580</td>\n",
              "    </tr>\n",
              "  </tbody>\n",
              "</table>\n",
              "<p>1000 rows × 6 columns</p>\n",
              "</div>"
            ],
            "text/plain": [
              "     HSCORE  GOODHEALTH  WEIGHT     WAIST       HIP       BMI\n",
              "0        61     66.6667    93.0  131.0000  129.0000  43.62920\n",
              "1       144     66.6667    65.5   88.0000  100.0000  24.65279\n",
              "2       144     50.0000    32.0   64.2000   84.4000  17.25027\n",
              "3        39     83.3333    53.0   87.0000   97.0000  25.20809\n",
              "4       144    100.0000    69.0   76.5000   90.5000  23.65230\n",
              "..      ...         ...     ...       ...       ...       ...\n",
              "995     135     66.6667    51.0   84.0000   99.0000  22.22005\n",
              "996      33    100.0000    55.0   83.0000   96.0000  24.60823\n",
              "997      46    100.0000    74.0   94.0000  105.0000  24.44180\n",
              "998      61     66.6667    81.4  111.4000  101.8000  32.36071\n",
              "999     112     83.3333    73.0  108.0000  118.3000  29.61580\n",
              "\n",
              "[1000 rows x 6 columns]"
            ]
          },
          "execution_count": 43,
          "metadata": {},
          "output_type": "execute_result"
        }
      ]
    },
    {
      "cell_type": "code",
      "metadata": {
        "id": "DdVlnkTXoW1b",
        "outputId": "547b1d78-6c0f-4a07-9832-2e392e9bc5da"
      },
      "source": [
        "current.loc[321]"
      ],
      "execution_count": null,
      "outputs": [
        {
          "data": {
            "text/plain": [
              "HSCORE              33\n",
              "GOODHEALTH     33.3333\n",
              "WEIGHT            74.5\n",
              "WAIST              0.0\n",
              "HIP           101.0000\n",
              "BMI           27.03585\n",
              "Name: 321, dtype: object"
            ]
          },
          "execution_count": 42,
          "metadata": {},
          "output_type": "execute_result"
        }
      ]
    },
    {
      "cell_type": "code",
      "metadata": {
        "id": "qNz7S-_4oW1b"
      },
      "source": [
        "current = DBCF_data.copy()"
      ],
      "execution_count": null,
      "outputs": []
    },
    {
      "cell_type": "code",
      "metadata": {
        "id": "LijF9-jUoW1c",
        "outputId": "5757f775-31fb-4ac7-b8b8-2ba6230114f1"
      },
      "source": [
        "current"
      ],
      "execution_count": null,
      "outputs": [
        {
          "data": {
            "text/html": [
              "<div>\n",
              "<style scoped>\n",
              "    .dataframe tbody tr th:only-of-type {\n",
              "        vertical-align: middle;\n",
              "    }\n",
              "\n",
              "    .dataframe tbody tr th {\n",
              "        vertical-align: top;\n",
              "    }\n",
              "\n",
              "    .dataframe thead th {\n",
              "        text-align: right;\n",
              "    }\n",
              "</style>\n",
              "<table border=\"1\" class=\"dataframe\">\n",
              "  <thead>\n",
              "    <tr style=\"text-align: right;\">\n",
              "      <th></th>\n",
              "      <th>HSCORE</th>\n",
              "      <th>GOODHEALTH</th>\n",
              "      <th>WEIGHT</th>\n",
              "      <th>WAIST</th>\n",
              "      <th>HIP</th>\n",
              "      <th>BMI</th>\n",
              "    </tr>\n",
              "  </thead>\n",
              "  <tbody>\n",
              "    <tr>\n",
              "      <th>0</th>\n",
              "      <td>61</td>\n",
              "      <td>66.6667</td>\n",
              "      <td>93.0</td>\n",
              "      <td>131.0000</td>\n",
              "      <td>129.0000</td>\n",
              "      <td>43.62920</td>\n",
              "    </tr>\n",
              "    <tr>\n",
              "      <th>1</th>\n",
              "      <td>144</td>\n",
              "      <td>66.6667</td>\n",
              "      <td>65.5</td>\n",
              "      <td>88.0000</td>\n",
              "      <td>100.0000</td>\n",
              "      <td>24.65279</td>\n",
              "    </tr>\n",
              "    <tr>\n",
              "      <th>2</th>\n",
              "      <td>144</td>\n",
              "      <td>50.0000</td>\n",
              "      <td>32.0</td>\n",
              "      <td>64.2000</td>\n",
              "      <td>84.4000</td>\n",
              "      <td>17.25027</td>\n",
              "    </tr>\n",
              "    <tr>\n",
              "      <th>3</th>\n",
              "      <td>39</td>\n",
              "      <td>83.3333</td>\n",
              "      <td>53.0</td>\n",
              "      <td>87.0000</td>\n",
              "      <td>97.0000</td>\n",
              "      <td>25.20809</td>\n",
              "    </tr>\n",
              "    <tr>\n",
              "      <th>4</th>\n",
              "      <td>144</td>\n",
              "      <td>100.0000</td>\n",
              "      <td>69.0</td>\n",
              "      <td>76.5000</td>\n",
              "      <td>90.5000</td>\n",
              "      <td>23.65230</td>\n",
              "    </tr>\n",
              "    <tr>\n",
              "      <th>...</th>\n",
              "      <td>...</td>\n",
              "      <td>...</td>\n",
              "      <td>...</td>\n",
              "      <td>...</td>\n",
              "      <td>...</td>\n",
              "      <td>...</td>\n",
              "    </tr>\n",
              "    <tr>\n",
              "      <th>23840</th>\n",
              "      <td>125</td>\n",
              "      <td>83.3333</td>\n",
              "      <td>63.0</td>\n",
              "      <td>81.0000</td>\n",
              "      <td>103.0000</td>\n",
              "      <td>25.23634</td>\n",
              "    </tr>\n",
              "    <tr>\n",
              "      <th>23841</th>\n",
              "      <td>112</td>\n",
              "      <td>33.3333</td>\n",
              "      <td>40.0</td>\n",
              "      <td>74.0000</td>\n",
              "      <td>77.0000</td>\n",
              "      <td>15.24158</td>\n",
              "    </tr>\n",
              "    <tr>\n",
              "      <th>23842</th>\n",
              "      <td>125</td>\n",
              "      <td>33.3333</td>\n",
              "      <td>75.0</td>\n",
              "      <td>98.0000</td>\n",
              "      <td>109.0000</td>\n",
              "      <td>30.04326</td>\n",
              "    </tr>\n",
              "    <tr>\n",
              "      <th>23843</th>\n",
              "      <td>144</td>\n",
              "      <td>100.0000</td>\n",
              "      <td>46.0</td>\n",
              "      <td>84.5000</td>\n",
              "      <td>89.5000</td>\n",
              "      <td>19.65056</td>\n",
              "    </tr>\n",
              "    <tr>\n",
              "      <th>23844</th>\n",
              "      <td>144</td>\n",
              "      <td>83.3333</td>\n",
              "      <td>58.0</td>\n",
              "      <td>97.1000</td>\n",
              "      <td>140.3000</td>\n",
              "      <td>27.02419</td>\n",
              "    </tr>\n",
              "  </tbody>\n",
              "</table>\n",
              "<p>23845 rows × 6 columns</p>\n",
              "</div>"
            ],
            "text/plain": [
              "       HSCORE  GOODHEALTH  WEIGHT     WAIST       HIP       BMI\n",
              "0          61     66.6667    93.0  131.0000  129.0000  43.62920\n",
              "1         144     66.6667    65.5   88.0000  100.0000  24.65279\n",
              "2         144     50.0000    32.0   64.2000   84.4000  17.25027\n",
              "3          39     83.3333    53.0   87.0000   97.0000  25.20809\n",
              "4         144    100.0000    69.0   76.5000   90.5000  23.65230\n",
              "...       ...         ...     ...       ...       ...       ...\n",
              "23840     125     83.3333    63.0   81.0000  103.0000  25.23634\n",
              "23841     112     33.3333    40.0   74.0000   77.0000  15.24158\n",
              "23842     125     33.3333    75.0   98.0000  109.0000  30.04326\n",
              "23843     144    100.0000    46.0   84.5000   89.5000  19.65056\n",
              "23844     144     83.3333    58.0   97.1000  140.3000  27.02419\n",
              "\n",
              "[23845 rows x 6 columns]"
            ]
          },
          "execution_count": 46,
          "metadata": {},
          "output_type": "execute_result"
        }
      ]
    },
    {
      "cell_type": "code",
      "metadata": {
        "id": "G1QHTlj3oW1c"
      },
      "source": [
        "for i in range(len(current['WAIST'])):\n",
        "    if current.loc[i]['WAIST'] == '#NULL!':\n",
        "        current.loc[i,'WAIST'] = 0.0"
      ],
      "execution_count": null,
      "outputs": []
    },
    {
      "cell_type": "code",
      "metadata": {
        "id": "DFsKWuinoW1d"
      },
      "source": [
        "for i in range(len(current['HIP'])):\n",
        "    if current.loc[i]['HIP'] == '#NULL!':\n",
        "        current.loc[i,'HIP'] = 0.0"
      ],
      "execution_count": null,
      "outputs": []
    },
    {
      "cell_type": "code",
      "metadata": {
        "colab": {
          "base_uri": "https://localhost:8080/"
        },
        "id": "HdKLjlTX7yUZ",
        "outputId": "49b2a3e7-e8a4-4c4a-b3c6-e9e1a8ba32cb"
      },
      "source": [
        "print(\"h\")"
      ],
      "execution_count": null,
      "outputs": [
        {
          "output_type": "stream",
          "name": "stdout",
          "text": [
            "h\n"
          ]
        }
      ]
    },
    {
      "cell_type": "markdown",
      "metadata": {
        "id": "V-Ajw98EoW1d"
      },
      "source": [
        "--------以上代码替换了NULL为0.0--------------------"
      ]
    },
    {
      "cell_type": "markdown",
      "metadata": {
        "id": "-fnAKP5ZoW1d"
      },
      "source": [
        "### ----------------------------------- End of DB-CF -----------------------------------"
      ]
    },
    {
      "cell_type": "markdown",
      "metadata": {
        "id": "kMjKlGtjoW1e"
      },
      "source": [
        "### 以下代码是不考虑协同过滤的"
      ]
    },
    {
      "cell_type": "markdown",
      "metadata": {
        "id": "0xHi8bFLoW1e"
      },
      "source": [
        "### ----------------------------------- Data Preprocessing -----------------------------------"
      ]
    },
    {
      "cell_type": "markdown",
      "metadata": {
        "id": "LuQLpp51ag6Q"
      },
      "source": [
        "必须将HSCORE一起算入，不然划分数据集会出现问题"
      ]
    },
    {
      "cell_type": "code",
      "metadata": {
        "id": "XRz1qYCXoW1e"
      },
      "source": [
        "pre = pd.DataFrame(origin_data)"
      ],
      "execution_count": 12,
      "outputs": []
    },
    {
      "cell_type": "code",
      "metadata": {
        "id": "geSqG0FsoW1f"
      },
      "source": [
        "# current_data = pre.drop(['ID'],axis = 1)\n",
        "current_data = pre"
      ],
      "execution_count": 13,
      "outputs": []
    },
    {
      "cell_type": "code",
      "metadata": {
        "colab": {
          "base_uri": "https://localhost:8080/"
        },
        "id": "FQj8TZg6oW1f",
        "outputId": "8e2e843e-4dd2-4891-973c-3c5e903d7056"
      },
      "source": [
        "# 创建输入和输出数据\n",
        "X = current_data.iloc[:,0:-1]\n",
        "y = current_data.iloc[:,-1]\n",
        "print(X)\n",
        "print(\"-------------------------\")\n",
        "print(y)"
      ],
      "execution_count": 14,
      "outputs": [
        {
          "output_type": "stream",
          "name": "stdout",
          "text": [
            "       GENDER  AGEGROUPVER2  CIVIL  EDUCATION  ...  WAIST  HIP  BMI_CAT  OBESITY\n",
            "0           1             6      1          2  ...      4    4        5        1\n",
            "1           1             5      1          2  ...      3    3        3        0\n",
            "2           1             5      1          1  ...      1    1        2        0\n",
            "3           1             6      3          2  ...      2    3        4        0\n",
            "4           0             3      1          2  ...      1    2        3        0\n",
            "...       ...           ...    ...        ...  ...    ...  ...      ...      ...\n",
            "41697       1             6      2          3  ...      2    2        3        0\n",
            "41698       1             4      2          3  ...      4    4        4        0\n",
            "41699       1             4      1          1  ...      2    2        4        0\n",
            "41700       1             9      4          1  ...      4    3        4        0\n",
            "41701       1             4      1          2  ...      2    3        4        0\n",
            "\n",
            "[41702 rows x 35 columns]\n",
            "-------------------------\n",
            "0        0\n",
            "1        0\n",
            "2        0\n",
            "3        0\n",
            "4        0\n",
            "        ..\n",
            "41697    1\n",
            "41698    1\n",
            "41699    1\n",
            "41700    1\n",
            "41701    1\n",
            "Name: DIABETES, Length: 41702, dtype: int64\n"
          ]
        }
      ]
    },
    {
      "cell_type": "code",
      "metadata": {
        "colab": {
          "base_uri": "https://localhost:8080/"
        },
        "id": "3avrlLB_a9ie",
        "outputId": "e9d952b5-f885-41f1-f439-4baa975a9a7b"
      },
      "source": [
        "X['HSCORE']"
      ],
      "execution_count": 15,
      "outputs": [
        {
          "output_type": "execute_result",
          "data": {
            "text/plain": [
              "0         61\n",
              "1        144\n",
              "2        144\n",
              "3         39\n",
              "4        144\n",
              "        ... \n",
              "41697     46\n",
              "41698     33\n",
              "41699    125\n",
              "41700    125\n",
              "41701    125\n",
              "Name: HSCORE, Length: 41702, dtype: int64"
            ]
          },
          "metadata": {},
          "execution_count": 15
        }
      ]
    },
    {
      "cell_type": "code",
      "metadata": {
        "id": "cNzQnTG52HIy"
      },
      "source": [
        "used_for_fit_data = pre.drop(['HSCORE','DIABETES'],axis = 1)"
      ],
      "execution_count": 16,
      "outputs": []
    },
    {
      "cell_type": "code",
      "metadata": {
        "colab": {
          "base_uri": "https://localhost:8080/",
          "height": 439
        },
        "id": "MnE9Kma12j4z",
        "outputId": "2a0aab4e-88a6-47dd-a217-a5670345e579"
      },
      "source": [
        "used_for_fit_data"
      ],
      "execution_count": 17,
      "outputs": [
        {
          "output_type": "execute_result",
          "data": {
            "text/html": [
              "<div>\n",
              "<style scoped>\n",
              "    .dataframe tbody tr th:only-of-type {\n",
              "        vertical-align: middle;\n",
              "    }\n",
              "\n",
              "    .dataframe tbody tr th {\n",
              "        vertical-align: top;\n",
              "    }\n",
              "\n",
              "    .dataframe thead th {\n",
              "        text-align: right;\n",
              "    }\n",
              "</style>\n",
              "<table border=\"1\" class=\"dataframe\">\n",
              "  <thead>\n",
              "    <tr style=\"text-align: right;\">\n",
              "      <th></th>\n",
              "      <th>GENDER</th>\n",
              "      <th>AGEGROUPVER2</th>\n",
              "      <th>CIVIL</th>\n",
              "      <th>EDUCATION</th>\n",
              "      <th>QUINT</th>\n",
              "      <th>WEALTH_INDEX</th>\n",
              "      <th>REGIME</th>\n",
              "      <th>RURALFIN</th>\n",
              "      <th>SMOKE</th>\n",
              "      <th>EXERCISE</th>\n",
              "      <th>DRINK</th>\n",
              "      <th>HEALTHUSE</th>\n",
              "      <th>POORHEALTH</th>\n",
              "      <th>GOODHEALTH</th>\n",
              "      <th>NADLGT0</th>\n",
              "      <th>NADLGT0_ALT</th>\n",
              "      <th>NIADLGT0</th>\n",
              "      <th>NADLGT0HARM</th>\n",
              "      <th>BATH</th>\n",
              "      <th>DRESS</th>\n",
              "      <th>TOILET</th>\n",
              "      <th>TRANSFER</th>\n",
              "      <th>BOW</th>\n",
              "      <th>HYPERTENSION</th>\n",
              "      <th>RESPIRATORY</th>\n",
              "      <th>HEART</th>\n",
              "      <th>STROKE</th>\n",
              "      <th>ARTHRITIS</th>\n",
              "      <th>NCHRONIC</th>\n",
              "      <th>WEIGHT</th>\n",
              "      <th>WAIST</th>\n",
              "      <th>HIP</th>\n",
              "      <th>BMI_CAT</th>\n",
              "      <th>OBESITY</th>\n",
              "    </tr>\n",
              "  </thead>\n",
              "  <tbody>\n",
              "    <tr>\n",
              "      <th>0</th>\n",
              "      <td>1</td>\n",
              "      <td>6</td>\n",
              "      <td>1</td>\n",
              "      <td>2</td>\n",
              "      <td>4</td>\n",
              "      <td>2</td>\n",
              "      <td>4</td>\n",
              "      <td>1</td>\n",
              "      <td>0</td>\n",
              "      <td>0</td>\n",
              "      <td>0</td>\n",
              "      <td>1</td>\n",
              "      <td>0</td>\n",
              "      <td>2</td>\n",
              "      <td>0</td>\n",
              "      <td>1</td>\n",
              "      <td>1</td>\n",
              "      <td>0</td>\n",
              "      <td>0</td>\n",
              "      <td>0</td>\n",
              "      <td>0</td>\n",
              "      <td>0</td>\n",
              "      <td>1</td>\n",
              "      <td>1</td>\n",
              "      <td>0</td>\n",
              "      <td>0</td>\n",
              "      <td>0</td>\n",
              "      <td>0</td>\n",
              "      <td>0</td>\n",
              "      <td>4</td>\n",
              "      <td>4</td>\n",
              "      <td>4</td>\n",
              "      <td>5</td>\n",
              "      <td>1</td>\n",
              "    </tr>\n",
              "    <tr>\n",
              "      <th>1</th>\n",
              "      <td>1</td>\n",
              "      <td>5</td>\n",
              "      <td>1</td>\n",
              "      <td>2</td>\n",
              "      <td>5</td>\n",
              "      <td>3</td>\n",
              "      <td>5</td>\n",
              "      <td>1</td>\n",
              "      <td>0</td>\n",
              "      <td>0</td>\n",
              "      <td>0</td>\n",
              "      <td>1</td>\n",
              "      <td>1</td>\n",
              "      <td>2</td>\n",
              "      <td>0</td>\n",
              "      <td>1</td>\n",
              "      <td>0</td>\n",
              "      <td>0</td>\n",
              "      <td>0</td>\n",
              "      <td>0</td>\n",
              "      <td>0</td>\n",
              "      <td>0</td>\n",
              "      <td>0</td>\n",
              "      <td>0</td>\n",
              "      <td>0</td>\n",
              "      <td>0</td>\n",
              "      <td>0</td>\n",
              "      <td>1</td>\n",
              "      <td>1</td>\n",
              "      <td>3</td>\n",
              "      <td>3</td>\n",
              "      <td>3</td>\n",
              "      <td>3</td>\n",
              "      <td>0</td>\n",
              "    </tr>\n",
              "    <tr>\n",
              "      <th>2</th>\n",
              "      <td>1</td>\n",
              "      <td>5</td>\n",
              "      <td>1</td>\n",
              "      <td>1</td>\n",
              "      <td>2</td>\n",
              "      <td>1</td>\n",
              "      <td>5</td>\n",
              "      <td>1</td>\n",
              "      <td>0</td>\n",
              "      <td>0</td>\n",
              "      <td>0</td>\n",
              "      <td>1</td>\n",
              "      <td>1</td>\n",
              "      <td>1</td>\n",
              "      <td>0</td>\n",
              "      <td>0</td>\n",
              "      <td>0</td>\n",
              "      <td>0</td>\n",
              "      <td>0</td>\n",
              "      <td>0</td>\n",
              "      <td>0</td>\n",
              "      <td>0</td>\n",
              "      <td>0</td>\n",
              "      <td>0</td>\n",
              "      <td>0</td>\n",
              "      <td>0</td>\n",
              "      <td>0</td>\n",
              "      <td>0</td>\n",
              "      <td>0</td>\n",
              "      <td>1</td>\n",
              "      <td>1</td>\n",
              "      <td>1</td>\n",
              "      <td>2</td>\n",
              "      <td>0</td>\n",
              "    </tr>\n",
              "    <tr>\n",
              "      <th>3</th>\n",
              "      <td>1</td>\n",
              "      <td>6</td>\n",
              "      <td>3</td>\n",
              "      <td>2</td>\n",
              "      <td>1</td>\n",
              "      <td>2</td>\n",
              "      <td>2</td>\n",
              "      <td>0</td>\n",
              "      <td>0</td>\n",
              "      <td>0</td>\n",
              "      <td>0</td>\n",
              "      <td>1</td>\n",
              "      <td>0</td>\n",
              "      <td>2</td>\n",
              "      <td>0</td>\n",
              "      <td>0</td>\n",
              "      <td>0</td>\n",
              "      <td>0</td>\n",
              "      <td>0</td>\n",
              "      <td>0</td>\n",
              "      <td>0</td>\n",
              "      <td>0</td>\n",
              "      <td>0</td>\n",
              "      <td>0</td>\n",
              "      <td>1</td>\n",
              "      <td>1</td>\n",
              "      <td>0</td>\n",
              "      <td>1</td>\n",
              "      <td>3</td>\n",
              "      <td>2</td>\n",
              "      <td>2</td>\n",
              "      <td>3</td>\n",
              "      <td>4</td>\n",
              "      <td>0</td>\n",
              "    </tr>\n",
              "    <tr>\n",
              "      <th>4</th>\n",
              "      <td>0</td>\n",
              "      <td>3</td>\n",
              "      <td>1</td>\n",
              "      <td>2</td>\n",
              "      <td>3</td>\n",
              "      <td>3</td>\n",
              "      <td>5</td>\n",
              "      <td>1</td>\n",
              "      <td>1</td>\n",
              "      <td>0</td>\n",
              "      <td>0</td>\n",
              "      <td>1</td>\n",
              "      <td>0</td>\n",
              "      <td>3</td>\n",
              "      <td>0</td>\n",
              "      <td>0</td>\n",
              "      <td>0</td>\n",
              "      <td>0</td>\n",
              "      <td>0</td>\n",
              "      <td>0</td>\n",
              "      <td>0</td>\n",
              "      <td>0</td>\n",
              "      <td>0</td>\n",
              "      <td>0</td>\n",
              "      <td>0</td>\n",
              "      <td>0</td>\n",
              "      <td>0</td>\n",
              "      <td>0</td>\n",
              "      <td>0</td>\n",
              "      <td>3</td>\n",
              "      <td>1</td>\n",
              "      <td>2</td>\n",
              "      <td>3</td>\n",
              "      <td>0</td>\n",
              "    </tr>\n",
              "    <tr>\n",
              "      <th>...</th>\n",
              "      <td>...</td>\n",
              "      <td>...</td>\n",
              "      <td>...</td>\n",
              "      <td>...</td>\n",
              "      <td>...</td>\n",
              "      <td>...</td>\n",
              "      <td>...</td>\n",
              "      <td>...</td>\n",
              "      <td>...</td>\n",
              "      <td>...</td>\n",
              "      <td>...</td>\n",
              "      <td>...</td>\n",
              "      <td>...</td>\n",
              "      <td>...</td>\n",
              "      <td>...</td>\n",
              "      <td>...</td>\n",
              "      <td>...</td>\n",
              "      <td>...</td>\n",
              "      <td>...</td>\n",
              "      <td>...</td>\n",
              "      <td>...</td>\n",
              "      <td>...</td>\n",
              "      <td>...</td>\n",
              "      <td>...</td>\n",
              "      <td>...</td>\n",
              "      <td>...</td>\n",
              "      <td>...</td>\n",
              "      <td>...</td>\n",
              "      <td>...</td>\n",
              "      <td>...</td>\n",
              "      <td>...</td>\n",
              "      <td>...</td>\n",
              "      <td>...</td>\n",
              "      <td>...</td>\n",
              "    </tr>\n",
              "    <tr>\n",
              "      <th>41697</th>\n",
              "      <td>1</td>\n",
              "      <td>6</td>\n",
              "      <td>2</td>\n",
              "      <td>3</td>\n",
              "      <td>4</td>\n",
              "      <td>2</td>\n",
              "      <td>4</td>\n",
              "      <td>0</td>\n",
              "      <td>0</td>\n",
              "      <td>0</td>\n",
              "      <td>1</td>\n",
              "      <td>1</td>\n",
              "      <td>1</td>\n",
              "      <td>2</td>\n",
              "      <td>0</td>\n",
              "      <td>1</td>\n",
              "      <td>0</td>\n",
              "      <td>0</td>\n",
              "      <td>0</td>\n",
              "      <td>0</td>\n",
              "      <td>0</td>\n",
              "      <td>0</td>\n",
              "      <td>1</td>\n",
              "      <td>1</td>\n",
              "      <td>0</td>\n",
              "      <td>0</td>\n",
              "      <td>0</td>\n",
              "      <td>1</td>\n",
              "      <td>2</td>\n",
              "      <td>2</td>\n",
              "      <td>2</td>\n",
              "      <td>2</td>\n",
              "      <td>3</td>\n",
              "      <td>0</td>\n",
              "    </tr>\n",
              "    <tr>\n",
              "      <th>41698</th>\n",
              "      <td>1</td>\n",
              "      <td>4</td>\n",
              "      <td>2</td>\n",
              "      <td>3</td>\n",
              "      <td>1</td>\n",
              "      <td>2</td>\n",
              "      <td>3</td>\n",
              "      <td>1</td>\n",
              "      <td>1</td>\n",
              "      <td>0</td>\n",
              "      <td>0</td>\n",
              "      <td>1</td>\n",
              "      <td>1</td>\n",
              "      <td>1</td>\n",
              "      <td>0</td>\n",
              "      <td>1</td>\n",
              "      <td>1</td>\n",
              "      <td>0</td>\n",
              "      <td>0</td>\n",
              "      <td>0</td>\n",
              "      <td>0</td>\n",
              "      <td>0</td>\n",
              "      <td>1</td>\n",
              "      <td>1</td>\n",
              "      <td>0</td>\n",
              "      <td>0</td>\n",
              "      <td>0</td>\n",
              "      <td>0</td>\n",
              "      <td>2</td>\n",
              "      <td>3</td>\n",
              "      <td>4</td>\n",
              "      <td>4</td>\n",
              "      <td>4</td>\n",
              "      <td>0</td>\n",
              "    </tr>\n",
              "    <tr>\n",
              "      <th>41699</th>\n",
              "      <td>1</td>\n",
              "      <td>4</td>\n",
              "      <td>1</td>\n",
              "      <td>1</td>\n",
              "      <td>4</td>\n",
              "      <td>2</td>\n",
              "      <td>4</td>\n",
              "      <td>1</td>\n",
              "      <td>0</td>\n",
              "      <td>0</td>\n",
              "      <td>0</td>\n",
              "      <td>1</td>\n",
              "      <td>1</td>\n",
              "      <td>1</td>\n",
              "      <td>0</td>\n",
              "      <td>1</td>\n",
              "      <td>0</td>\n",
              "      <td>0</td>\n",
              "      <td>0</td>\n",
              "      <td>0</td>\n",
              "      <td>0</td>\n",
              "      <td>0</td>\n",
              "      <td>1</td>\n",
              "      <td>0</td>\n",
              "      <td>0</td>\n",
              "      <td>0</td>\n",
              "      <td>0</td>\n",
              "      <td>1</td>\n",
              "      <td>2</td>\n",
              "      <td>2</td>\n",
              "      <td>2</td>\n",
              "      <td>2</td>\n",
              "      <td>4</td>\n",
              "      <td>0</td>\n",
              "    </tr>\n",
              "    <tr>\n",
              "      <th>41700</th>\n",
              "      <td>1</td>\n",
              "      <td>9</td>\n",
              "      <td>4</td>\n",
              "      <td>1</td>\n",
              "      <td>2</td>\n",
              "      <td>2</td>\n",
              "      <td>4</td>\n",
              "      <td>1</td>\n",
              "      <td>1</td>\n",
              "      <td>0</td>\n",
              "      <td>0</td>\n",
              "      <td>1</td>\n",
              "      <td>1</td>\n",
              "      <td>1</td>\n",
              "      <td>1</td>\n",
              "      <td>1</td>\n",
              "      <td>1</td>\n",
              "      <td>1</td>\n",
              "      <td>0</td>\n",
              "      <td>0</td>\n",
              "      <td>1</td>\n",
              "      <td>1</td>\n",
              "      <td>0</td>\n",
              "      <td>0</td>\n",
              "      <td>0</td>\n",
              "      <td>0</td>\n",
              "      <td>0</td>\n",
              "      <td>1</td>\n",
              "      <td>2</td>\n",
              "      <td>2</td>\n",
              "      <td>4</td>\n",
              "      <td>3</td>\n",
              "      <td>4</td>\n",
              "      <td>0</td>\n",
              "    </tr>\n",
              "    <tr>\n",
              "      <th>41701</th>\n",
              "      <td>1</td>\n",
              "      <td>4</td>\n",
              "      <td>1</td>\n",
              "      <td>2</td>\n",
              "      <td>4</td>\n",
              "      <td>2</td>\n",
              "      <td>4</td>\n",
              "      <td>0</td>\n",
              "      <td>1</td>\n",
              "      <td>0</td>\n",
              "      <td>0</td>\n",
              "      <td>1</td>\n",
              "      <td>0</td>\n",
              "      <td>2</td>\n",
              "      <td>0</td>\n",
              "      <td>1</td>\n",
              "      <td>0</td>\n",
              "      <td>0</td>\n",
              "      <td>0</td>\n",
              "      <td>0</td>\n",
              "      <td>0</td>\n",
              "      <td>0</td>\n",
              "      <td>0</td>\n",
              "      <td>1</td>\n",
              "      <td>0</td>\n",
              "      <td>0</td>\n",
              "      <td>0</td>\n",
              "      <td>1</td>\n",
              "      <td>2</td>\n",
              "      <td>3</td>\n",
              "      <td>2</td>\n",
              "      <td>3</td>\n",
              "      <td>4</td>\n",
              "      <td>0</td>\n",
              "    </tr>\n",
              "  </tbody>\n",
              "</table>\n",
              "<p>41702 rows × 34 columns</p>\n",
              "</div>"
            ],
            "text/plain": [
              "       GENDER  AGEGROUPVER2  CIVIL  EDUCATION  ...  WAIST  HIP  BMI_CAT  OBESITY\n",
              "0           1             6      1          2  ...      4    4        5        1\n",
              "1           1             5      1          2  ...      3    3        3        0\n",
              "2           1             5      1          1  ...      1    1        2        0\n",
              "3           1             6      3          2  ...      2    3        4        0\n",
              "4           0             3      1          2  ...      1    2        3        0\n",
              "...       ...           ...    ...        ...  ...    ...  ...      ...      ...\n",
              "41697       1             6      2          3  ...      2    2        3        0\n",
              "41698       1             4      2          3  ...      4    4        4        0\n",
              "41699       1             4      1          1  ...      2    2        4        0\n",
              "41700       1             9      4          1  ...      4    3        4        0\n",
              "41701       1             4      1          2  ...      2    3        4        0\n",
              "\n",
              "[41702 rows x 34 columns]"
            ]
          },
          "metadata": {},
          "execution_count": 17
        }
      ]
    },
    {
      "cell_type": "code",
      "metadata": {
        "id": "diR-ZXyRoW1g"
      },
      "source": [
        "X_train, X_test, y_train, y_test = train_test_split(X,y, test_size=0.3)"
      ],
      "execution_count": 18,
      "outputs": []
    },
    {
      "cell_type": "code",
      "metadata": {
        "colab": {
          "base_uri": "https://localhost:8080/"
        },
        "id": "zfUBpad86_ns",
        "outputId": "bd755464-cb25-46b7-e8dd-56305e465d3d"
      },
      "source": [
        "y_train"
      ],
      "execution_count": 19,
      "outputs": [
        {
          "output_type": "execute_result",
          "data": {
            "text/plain": [
              "24563    1\n",
              "21842    0\n",
              "11766    0\n",
              "16495    1\n",
              "3800     0\n",
              "        ..\n",
              "28057    1\n",
              "24597    1\n",
              "9847     0\n",
              "9432     0\n",
              "23284    0\n",
              "Name: DIABETES, Length: 29191, dtype: int64"
            ]
          },
          "metadata": {},
          "execution_count": 19
        }
      ]
    },
    {
      "cell_type": "code",
      "metadata": {
        "colab": {
          "base_uri": "https://localhost:8080/",
          "height": 439
        },
        "id": "0yYwiAEjZpMt",
        "outputId": "bfce99ab-a794-4a9e-ef2c-f106497c64bd"
      },
      "source": [
        "X_train"
      ],
      "execution_count": 20,
      "outputs": [
        {
          "output_type": "execute_result",
          "data": {
            "text/html": [
              "<div>\n",
              "<style scoped>\n",
              "    .dataframe tbody tr th:only-of-type {\n",
              "        vertical-align: middle;\n",
              "    }\n",
              "\n",
              "    .dataframe tbody tr th {\n",
              "        vertical-align: top;\n",
              "    }\n",
              "\n",
              "    .dataframe thead th {\n",
              "        text-align: right;\n",
              "    }\n",
              "</style>\n",
              "<table border=\"1\" class=\"dataframe\">\n",
              "  <thead>\n",
              "    <tr style=\"text-align: right;\">\n",
              "      <th></th>\n",
              "      <th>GENDER</th>\n",
              "      <th>AGEGROUPVER2</th>\n",
              "      <th>CIVIL</th>\n",
              "      <th>EDUCATION</th>\n",
              "      <th>QUINT</th>\n",
              "      <th>WEALTH_INDEX</th>\n",
              "      <th>HSCORE</th>\n",
              "      <th>REGIME</th>\n",
              "      <th>RURALFIN</th>\n",
              "      <th>SMOKE</th>\n",
              "      <th>EXERCISE</th>\n",
              "      <th>DRINK</th>\n",
              "      <th>HEALTHUSE</th>\n",
              "      <th>POORHEALTH</th>\n",
              "      <th>GOODHEALTH</th>\n",
              "      <th>NADLGT0</th>\n",
              "      <th>NADLGT0_ALT</th>\n",
              "      <th>NIADLGT0</th>\n",
              "      <th>NADLGT0HARM</th>\n",
              "      <th>BATH</th>\n",
              "      <th>DRESS</th>\n",
              "      <th>TOILET</th>\n",
              "      <th>TRANSFER</th>\n",
              "      <th>BOW</th>\n",
              "      <th>HYPERTENSION</th>\n",
              "      <th>RESPIRATORY</th>\n",
              "      <th>HEART</th>\n",
              "      <th>STROKE</th>\n",
              "      <th>ARTHRITIS</th>\n",
              "      <th>NCHRONIC</th>\n",
              "      <th>WEIGHT</th>\n",
              "      <th>WAIST</th>\n",
              "      <th>HIP</th>\n",
              "      <th>BMI_CAT</th>\n",
              "      <th>OBESITY</th>\n",
              "    </tr>\n",
              "  </thead>\n",
              "  <tbody>\n",
              "    <tr>\n",
              "      <th>24563</th>\n",
              "      <td>0</td>\n",
              "      <td>3</td>\n",
              "      <td>1</td>\n",
              "      <td>3</td>\n",
              "      <td>4</td>\n",
              "      <td>3</td>\n",
              "      <td>144</td>\n",
              "      <td>5</td>\n",
              "      <td>0</td>\n",
              "      <td>1</td>\n",
              "      <td>1</td>\n",
              "      <td>1</td>\n",
              "      <td>1</td>\n",
              "      <td>0</td>\n",
              "      <td>3</td>\n",
              "      <td>0</td>\n",
              "      <td>0</td>\n",
              "      <td>0</td>\n",
              "      <td>0</td>\n",
              "      <td>0</td>\n",
              "      <td>0</td>\n",
              "      <td>0</td>\n",
              "      <td>0</td>\n",
              "      <td>0</td>\n",
              "      <td>1</td>\n",
              "      <td>0</td>\n",
              "      <td>0</td>\n",
              "      <td>0</td>\n",
              "      <td>1</td>\n",
              "      <td>3</td>\n",
              "      <td>4</td>\n",
              "      <td>3</td>\n",
              "      <td>3</td>\n",
              "      <td>3</td>\n",
              "      <td>0</td>\n",
              "    </tr>\n",
              "    <tr>\n",
              "      <th>21842</th>\n",
              "      <td>0</td>\n",
              "      <td>3</td>\n",
              "      <td>4</td>\n",
              "      <td>2</td>\n",
              "      <td>3</td>\n",
              "      <td>1</td>\n",
              "      <td>112</td>\n",
              "      <td>5</td>\n",
              "      <td>1</td>\n",
              "      <td>1</td>\n",
              "      <td>1</td>\n",
              "      <td>0</td>\n",
              "      <td>1</td>\n",
              "      <td>0</td>\n",
              "      <td>2</td>\n",
              "      <td>0</td>\n",
              "      <td>1</td>\n",
              "      <td>0</td>\n",
              "      <td>0</td>\n",
              "      <td>0</td>\n",
              "      <td>0</td>\n",
              "      <td>0</td>\n",
              "      <td>0</td>\n",
              "      <td>0</td>\n",
              "      <td>0</td>\n",
              "      <td>0</td>\n",
              "      <td>0</td>\n",
              "      <td>0</td>\n",
              "      <td>0</td>\n",
              "      <td>0</td>\n",
              "      <td>1</td>\n",
              "      <td>1</td>\n",
              "      <td>1</td>\n",
              "      <td>2</td>\n",
              "      <td>0</td>\n",
              "    </tr>\n",
              "    <tr>\n",
              "      <th>11766</th>\n",
              "      <td>1</td>\n",
              "      <td>7</td>\n",
              "      <td>2</td>\n",
              "      <td>2</td>\n",
              "      <td>5</td>\n",
              "      <td>2</td>\n",
              "      <td>39</td>\n",
              "      <td>2</td>\n",
              "      <td>0</td>\n",
              "      <td>0</td>\n",
              "      <td>0</td>\n",
              "      <td>0</td>\n",
              "      <td>1</td>\n",
              "      <td>0</td>\n",
              "      <td>1</td>\n",
              "      <td>1</td>\n",
              "      <td>1</td>\n",
              "      <td>1</td>\n",
              "      <td>1</td>\n",
              "      <td>0</td>\n",
              "      <td>0</td>\n",
              "      <td>0</td>\n",
              "      <td>1</td>\n",
              "      <td>1</td>\n",
              "      <td>0</td>\n",
              "      <td>0</td>\n",
              "      <td>0</td>\n",
              "      <td>0</td>\n",
              "      <td>1</td>\n",
              "      <td>1</td>\n",
              "      <td>4</td>\n",
              "      <td>4</td>\n",
              "      <td>4</td>\n",
              "      <td>5</td>\n",
              "      <td>1</td>\n",
              "    </tr>\n",
              "    <tr>\n",
              "      <th>16495</th>\n",
              "      <td>0</td>\n",
              "      <td>6</td>\n",
              "      <td>1</td>\n",
              "      <td>1</td>\n",
              "      <td>3</td>\n",
              "      <td>3</td>\n",
              "      <td>144</td>\n",
              "      <td>5</td>\n",
              "      <td>1</td>\n",
              "      <td>0</td>\n",
              "      <td>0</td>\n",
              "      <td>1</td>\n",
              "      <td>1</td>\n",
              "      <td>0</td>\n",
              "      <td>3</td>\n",
              "      <td>0</td>\n",
              "      <td>0</td>\n",
              "      <td>0</td>\n",
              "      <td>0</td>\n",
              "      <td>0</td>\n",
              "      <td>0</td>\n",
              "      <td>0</td>\n",
              "      <td>0</td>\n",
              "      <td>0</td>\n",
              "      <td>0</td>\n",
              "      <td>0</td>\n",
              "      <td>0</td>\n",
              "      <td>0</td>\n",
              "      <td>0</td>\n",
              "      <td>1</td>\n",
              "      <td>3</td>\n",
              "      <td>3</td>\n",
              "      <td>3</td>\n",
              "      <td>3</td>\n",
              "      <td>0</td>\n",
              "    </tr>\n",
              "    <tr>\n",
              "      <th>3800</th>\n",
              "      <td>1</td>\n",
              "      <td>6</td>\n",
              "      <td>4</td>\n",
              "      <td>2</td>\n",
              "      <td>1</td>\n",
              "      <td>2</td>\n",
              "      <td>112</td>\n",
              "      <td>5</td>\n",
              "      <td>1</td>\n",
              "      <td>1</td>\n",
              "      <td>0</td>\n",
              "      <td>0</td>\n",
              "      <td>1</td>\n",
              "      <td>0</td>\n",
              "      <td>2</td>\n",
              "      <td>0</td>\n",
              "      <td>1</td>\n",
              "      <td>1</td>\n",
              "      <td>0</td>\n",
              "      <td>0</td>\n",
              "      <td>0</td>\n",
              "      <td>0</td>\n",
              "      <td>0</td>\n",
              "      <td>0</td>\n",
              "      <td>1</td>\n",
              "      <td>0</td>\n",
              "      <td>0</td>\n",
              "      <td>0</td>\n",
              "      <td>0</td>\n",
              "      <td>1</td>\n",
              "      <td>3</td>\n",
              "      <td>4</td>\n",
              "      <td>3</td>\n",
              "      <td>4</td>\n",
              "      <td>0</td>\n",
              "    </tr>\n",
              "    <tr>\n",
              "      <th>...</th>\n",
              "      <td>...</td>\n",
              "      <td>...</td>\n",
              "      <td>...</td>\n",
              "      <td>...</td>\n",
              "      <td>...</td>\n",
              "      <td>...</td>\n",
              "      <td>...</td>\n",
              "      <td>...</td>\n",
              "      <td>...</td>\n",
              "      <td>...</td>\n",
              "      <td>...</td>\n",
              "      <td>...</td>\n",
              "      <td>...</td>\n",
              "      <td>...</td>\n",
              "      <td>...</td>\n",
              "      <td>...</td>\n",
              "      <td>...</td>\n",
              "      <td>...</td>\n",
              "      <td>...</td>\n",
              "      <td>...</td>\n",
              "      <td>...</td>\n",
              "      <td>...</td>\n",
              "      <td>...</td>\n",
              "      <td>...</td>\n",
              "      <td>...</td>\n",
              "      <td>...</td>\n",
              "      <td>...</td>\n",
              "      <td>...</td>\n",
              "      <td>...</td>\n",
              "      <td>...</td>\n",
              "      <td>...</td>\n",
              "      <td>...</td>\n",
              "      <td>...</td>\n",
              "      <td>...</td>\n",
              "      <td>...</td>\n",
              "    </tr>\n",
              "    <tr>\n",
              "      <th>28057</th>\n",
              "      <td>0</td>\n",
              "      <td>3</td>\n",
              "      <td>1</td>\n",
              "      <td>3</td>\n",
              "      <td>5</td>\n",
              "      <td>3</td>\n",
              "      <td>144</td>\n",
              "      <td>5</td>\n",
              "      <td>0</td>\n",
              "      <td>0</td>\n",
              "      <td>0</td>\n",
              "      <td>0</td>\n",
              "      <td>1</td>\n",
              "      <td>1</td>\n",
              "      <td>2</td>\n",
              "      <td>0</td>\n",
              "      <td>0</td>\n",
              "      <td>0</td>\n",
              "      <td>0</td>\n",
              "      <td>0</td>\n",
              "      <td>0</td>\n",
              "      <td>0</td>\n",
              "      <td>0</td>\n",
              "      <td>0</td>\n",
              "      <td>1</td>\n",
              "      <td>0</td>\n",
              "      <td>0</td>\n",
              "      <td>0</td>\n",
              "      <td>0</td>\n",
              "      <td>2</td>\n",
              "      <td>3</td>\n",
              "      <td>2</td>\n",
              "      <td>2</td>\n",
              "      <td>3</td>\n",
              "      <td>0</td>\n",
              "    </tr>\n",
              "    <tr>\n",
              "      <th>24597</th>\n",
              "      <td>0</td>\n",
              "      <td>3</td>\n",
              "      <td>1</td>\n",
              "      <td>4</td>\n",
              "      <td>5</td>\n",
              "      <td>2</td>\n",
              "      <td>135</td>\n",
              "      <td>5</td>\n",
              "      <td>1</td>\n",
              "      <td>0</td>\n",
              "      <td>1</td>\n",
              "      <td>1</td>\n",
              "      <td>1</td>\n",
              "      <td>0</td>\n",
              "      <td>2</td>\n",
              "      <td>0</td>\n",
              "      <td>1</td>\n",
              "      <td>1</td>\n",
              "      <td>0</td>\n",
              "      <td>0</td>\n",
              "      <td>0</td>\n",
              "      <td>0</td>\n",
              "      <td>0</td>\n",
              "      <td>0</td>\n",
              "      <td>0</td>\n",
              "      <td>0</td>\n",
              "      <td>0</td>\n",
              "      <td>0</td>\n",
              "      <td>0</td>\n",
              "      <td>1</td>\n",
              "      <td>4</td>\n",
              "      <td>4</td>\n",
              "      <td>4</td>\n",
              "      <td>5</td>\n",
              "      <td>1</td>\n",
              "    </tr>\n",
              "    <tr>\n",
              "      <th>9847</th>\n",
              "      <td>0</td>\n",
              "      <td>9</td>\n",
              "      <td>4</td>\n",
              "      <td>2</td>\n",
              "      <td>2</td>\n",
              "      <td>3</td>\n",
              "      <td>65</td>\n",
              "      <td>2</td>\n",
              "      <td>0</td>\n",
              "      <td>0</td>\n",
              "      <td>0</td>\n",
              "      <td>0</td>\n",
              "      <td>0</td>\n",
              "      <td>0</td>\n",
              "      <td>2</td>\n",
              "      <td>1</td>\n",
              "      <td>1</td>\n",
              "      <td>1</td>\n",
              "      <td>0</td>\n",
              "      <td>0</td>\n",
              "      <td>0</td>\n",
              "      <td>0</td>\n",
              "      <td>0</td>\n",
              "      <td>1</td>\n",
              "      <td>0</td>\n",
              "      <td>0</td>\n",
              "      <td>0</td>\n",
              "      <td>0</td>\n",
              "      <td>0</td>\n",
              "      <td>0</td>\n",
              "      <td>3</td>\n",
              "      <td>3</td>\n",
              "      <td>3</td>\n",
              "      <td>4</td>\n",
              "      <td>0</td>\n",
              "    </tr>\n",
              "    <tr>\n",
              "      <th>9432</th>\n",
              "      <td>1</td>\n",
              "      <td>3</td>\n",
              "      <td>1</td>\n",
              "      <td>2</td>\n",
              "      <td>4</td>\n",
              "      <td>3</td>\n",
              "      <td>175</td>\n",
              "      <td>3</td>\n",
              "      <td>1</td>\n",
              "      <td>0</td>\n",
              "      <td>0</td>\n",
              "      <td>0</td>\n",
              "      <td>1</td>\n",
              "      <td>0</td>\n",
              "      <td>1</td>\n",
              "      <td>1</td>\n",
              "      <td>1</td>\n",
              "      <td>1</td>\n",
              "      <td>1</td>\n",
              "      <td>0</td>\n",
              "      <td>0</td>\n",
              "      <td>0</td>\n",
              "      <td>1</td>\n",
              "      <td>0</td>\n",
              "      <td>1</td>\n",
              "      <td>0</td>\n",
              "      <td>0</td>\n",
              "      <td>0</td>\n",
              "      <td>0</td>\n",
              "      <td>1</td>\n",
              "      <td>3</td>\n",
              "      <td>3</td>\n",
              "      <td>4</td>\n",
              "      <td>5</td>\n",
              "      <td>1</td>\n",
              "    </tr>\n",
              "    <tr>\n",
              "      <th>23284</th>\n",
              "      <td>1</td>\n",
              "      <td>5</td>\n",
              "      <td>1</td>\n",
              "      <td>1</td>\n",
              "      <td>1</td>\n",
              "      <td>1</td>\n",
              "      <td>144</td>\n",
              "      <td>5</td>\n",
              "      <td>1</td>\n",
              "      <td>0</td>\n",
              "      <td>0</td>\n",
              "      <td>0</td>\n",
              "      <td>1</td>\n",
              "      <td>0</td>\n",
              "      <td>3</td>\n",
              "      <td>0</td>\n",
              "      <td>0</td>\n",
              "      <td>0</td>\n",
              "      <td>0</td>\n",
              "      <td>0</td>\n",
              "      <td>0</td>\n",
              "      <td>0</td>\n",
              "      <td>0</td>\n",
              "      <td>0</td>\n",
              "      <td>0</td>\n",
              "      <td>0</td>\n",
              "      <td>0</td>\n",
              "      <td>0</td>\n",
              "      <td>0</td>\n",
              "      <td>0</td>\n",
              "      <td>2</td>\n",
              "      <td>3</td>\n",
              "      <td>2</td>\n",
              "      <td>3</td>\n",
              "      <td>0</td>\n",
              "    </tr>\n",
              "  </tbody>\n",
              "</table>\n",
              "<p>29191 rows × 35 columns</p>\n",
              "</div>"
            ],
            "text/plain": [
              "       GENDER  AGEGROUPVER2  CIVIL  EDUCATION  ...  WAIST  HIP  BMI_CAT  OBESITY\n",
              "24563       0             3      1          3  ...      3    3        3        0\n",
              "21842       0             3      4          2  ...      1    1        2        0\n",
              "11766       1             7      2          2  ...      4    4        5        1\n",
              "16495       0             6      1          1  ...      3    3        3        0\n",
              "3800        1             6      4          2  ...      4    3        4        0\n",
              "...       ...           ...    ...        ...  ...    ...  ...      ...      ...\n",
              "28057       0             3      1          3  ...      2    2        3        0\n",
              "24597       0             3      1          4  ...      4    4        5        1\n",
              "9847        0             9      4          2  ...      3    3        4        0\n",
              "9432        1             3      1          2  ...      3    4        5        1\n",
              "23284       1             5      1          1  ...      3    2        3        0\n",
              "\n",
              "[29191 rows x 35 columns]"
            ]
          },
          "metadata": {},
          "execution_count": 20
        }
      ]
    },
    {
      "cell_type": "code",
      "metadata": {
        "id": "R3Qy6wgVcdTk"
      },
      "source": [
        "# HSCORE Transform (Note that HSCORE will be add into input, forget, output gates, act. function is sigmoid (0-1), so min-max normalization will be applied  )\n",
        "\n",
        "HS_train = X_train['HSCORE']\n",
        "HS_test = X_test['HSCORE']"
      ],
      "execution_count": 21,
      "outputs": []
    },
    {
      "cell_type": "code",
      "metadata": {
        "id": "KTPmzR5xcyPy"
      },
      "source": [
        "R_1 = HS_train.values.reshape(-1,1)\n",
        "R_2 = HS_test.values.reshape(-1,1)"
      ],
      "execution_count": 22,
      "outputs": []
    },
    {
      "cell_type": "code",
      "metadata": {
        "id": "13C48RrmeoU4"
      },
      "source": [
        "from sklearn import preprocessing\n",
        "\n",
        "maxmin = preprocessing.MinMaxScaler()\n",
        "HSCORE_train = maxmin.fit_transform(R_1)\n",
        "HSCORE_test = maxmin.fit_transform(R_2)"
      ],
      "execution_count": 23,
      "outputs": []
    },
    {
      "cell_type": "code",
      "metadata": {
        "colab": {
          "base_uri": "https://localhost:8080/"
        },
        "id": "mQtaWivGfMrU",
        "outputId": "bdcc6ce5-0abf-461f-98d0-84aee8162771"
      },
      "source": [
        "print(HSCORE_train)\n",
        "print(\"--------------------------------\")\n",
        "print(HSCORE_test)"
      ],
      "execution_count": 24,
      "outputs": [
        {
          "output_type": "stream",
          "name": "stdout",
          "text": [
            "[[0.78169014]\n",
            " [0.55633803]\n",
            " [0.04225352]\n",
            " ...\n",
            " [0.22535211]\n",
            " [1.        ]\n",
            " [0.78169014]]\n",
            "--------------------------------\n",
            "[[0.        ]\n",
            " [0.55633803]\n",
            " [0.22535211]\n",
            " ...\n",
            " [0.        ]\n",
            " [0.55633803]\n",
            " [0.64788732]]\n"
          ]
        }
      ]
    },
    {
      "cell_type": "code",
      "metadata": {
        "colab": {
          "base_uri": "https://localhost:8080/"
        },
        "id": "sNnwPjGdfoXd",
        "outputId": "cbb0d20f-3ac2-4f3d-c51d-7a2bfe345d5d"
      },
      "source": [
        "print(len(HSCORE_train))"
      ],
      "execution_count": 25,
      "outputs": [
        {
          "output_type": "stream",
          "name": "stdout",
          "text": [
            "29191\n"
          ]
        }
      ]
    },
    {
      "cell_type": "code",
      "metadata": {
        "id": "VZIqvOEDgS1_"
      },
      "source": [
        "# 从这里开始在剔除HSCORE，方便后续训练,如果需要不剔除，在这里改\n",
        "X_train_offical = X_train.drop(['HSCORE'], axis = 1)\n",
        "X_test_offical = X_test.drop(['HSCORE'], axis = 1)"
      ],
      "execution_count": 26,
      "outputs": []
    },
    {
      "cell_type": "code",
      "metadata": {
        "colab": {
          "base_uri": "https://localhost:8080/"
        },
        "id": "zdXD-dsPs7AQ",
        "outputId": "26950bb2-64e9-436d-b1fb-31e6ff74abf1"
      },
      "source": [
        "print(len(X_train_offical.columns))"
      ],
      "execution_count": 27,
      "outputs": [
        {
          "output_type": "stream",
          "name": "stdout",
          "text": [
            "34\n"
          ]
        }
      ]
    },
    {
      "cell_type": "code",
      "metadata": {
        "colab": {
          "base_uri": "https://localhost:8080/"
        },
        "id": "t2jMpivDiCQa",
        "outputId": "9590b5a5-c1b7-45b0-bb49-6da16ec7f641"
      },
      "source": [
        "# 验证X_train_offical 与 X_train是否匹配\n",
        "print(X_train_offical)"
      ],
      "execution_count": 28,
      "outputs": [
        {
          "output_type": "stream",
          "name": "stdout",
          "text": [
            "       GENDER  AGEGROUPVER2  CIVIL  EDUCATION  ...  WAIST  HIP  BMI_CAT  OBESITY\n",
            "24563       0             3      1          3  ...      3    3        3        0\n",
            "21842       0             3      4          2  ...      1    1        2        0\n",
            "11766       1             7      2          2  ...      4    4        5        1\n",
            "16495       0             6      1          1  ...      3    3        3        0\n",
            "3800        1             6      4          2  ...      4    3        4        0\n",
            "...       ...           ...    ...        ...  ...    ...  ...      ...      ...\n",
            "28057       0             3      1          3  ...      2    2        3        0\n",
            "24597       0             3      1          4  ...      4    4        5        1\n",
            "9847        0             9      4          2  ...      3    3        4        0\n",
            "9432        1             3      1          2  ...      3    4        5        1\n",
            "23284       1             5      1          1  ...      3    2        3        0\n",
            "\n",
            "[29191 rows x 34 columns]\n"
          ]
        }
      ]
    },
    {
      "cell_type": "code",
      "metadata": {
        "id": "4vKVUz_2risQ"
      },
      "source": [
        "# One-hot encoding\n",
        "enc = OneHotEncoder()\n",
        "enc = enc.fit(used_for_fit_data)\n",
        "tr  = enc.transform(X_train_offical).toarray()  \n",
        "te  = enc.transform(X_test_offical).toarray()"
      ],
      "execution_count": 29,
      "outputs": []
    },
    {
      "cell_type": "code",
      "metadata": {
        "colab": {
          "base_uri": "https://localhost:8080/"
        },
        "id": "Qz0STskPuexM",
        "outputId": "7e222fb1-5a4d-433f-d5bf-c33e63d2d7f7"
      },
      "source": [
        "len(enc.categories_)"
      ],
      "execution_count": 30,
      "outputs": [
        {
          "output_type": "execute_result",
          "data": {
            "text/plain": [
              "34"
            ]
          },
          "metadata": {},
          "execution_count": 30
        }
      ]
    },
    {
      "cell_type": "code",
      "metadata": {
        "colab": {
          "base_uri": "https://localhost:8080/"
        },
        "id": "y89Z3uQ9ur-r",
        "outputId": "c90656f8-8d70-4e72-941d-01b4b019b513"
      },
      "source": [
        "print(tr[2])"
      ],
      "execution_count": 31,
      "outputs": [
        {
          "output_type": "stream",
          "name": "stdout",
          "text": [
            "[0. 1. 0. 0. 0. 0. 0. 1. 0. 0. 0. 1. 0. 0. 0. 0. 1. 0. 0. 0. 0. 0. 0. 1.\n",
            " 0. 1. 0. 1. 0. 0. 0. 1. 0. 1. 0. 1. 0. 1. 0. 0. 1. 1. 0. 1. 0. 0. 0. 1.\n",
            " 0. 1. 0. 1. 0. 1. 1. 0. 1. 0. 1. 0. 0. 1. 0. 1. 1. 0. 1. 0. 1. 0. 1. 0.\n",
            " 0. 1. 0. 1. 0. 0. 0. 0. 0. 0. 0. 0. 1. 0. 0. 0. 1. 0. 0. 0. 1. 0. 0. 0.\n",
            " 0. 1. 0. 1.]\n"
          ]
        }
      ]
    },
    {
      "cell_type": "code",
      "metadata": {
        "colab": {
          "base_uri": "https://localhost:8080/"
        },
        "id": "tVg9zvpXxqgp",
        "outputId": "891ae5f8-3f36-47b6-fbd7-61aa49bbb5f0"
      },
      "source": [
        "print(len(tr[1]))"
      ],
      "execution_count": 32,
      "outputs": [
        {
          "output_type": "stream",
          "name": "stdout",
          "text": [
            "100\n"
          ]
        }
      ]
    },
    {
      "cell_type": "code",
      "metadata": {
        "colab": {
          "base_uri": "https://localhost:8080/"
        },
        "id": "f96z2DU0oW1h",
        "outputId": "577b1feb-d48b-4b05-d98c-8ea3edec1f43"
      },
      "source": [
        "len(tr) # used for check training example = X_train (current answer is 19076 or 33361)"
      ],
      "execution_count": 33,
      "outputs": [
        {
          "output_type": "execute_result",
          "data": {
            "text/plain": [
              "29191"
            ]
          },
          "metadata": {},
          "execution_count": 33
        }
      ]
    },
    {
      "cell_type": "code",
      "metadata": {
        "colab": {
          "base_uri": "https://localhost:8080/"
        },
        "id": "ViDOdmHsGOCZ",
        "outputId": "17911c23-f6b4-49a9-f0f7-35bda07ad426"
      },
      "source": [
        "type(y_train)"
      ],
      "execution_count": 34,
      "outputs": [
        {
          "output_type": "execute_result",
          "data": {
            "text/plain": [
              "pandas.core.series.Series"
            ]
          },
          "metadata": {},
          "execution_count": 34
        }
      ]
    },
    {
      "cell_type": "markdown",
      "metadata": {
        "id": "Q8y1wazM4OJC"
      },
      "source": [
        "# **参数列表汇总**\n",
        "\n",
        "\n",
        "1.   tr表示训练数据\n",
        "2.   te表示测试数据\n",
        "3.   HSCORE_train 表示训练数据中的HSCORE分数\n",
        "4.   HSCORE_test 表示测试数据中的HSCORE分数\n",
        "5.   y_train, y_test 分别表示训练数据的target值和测试数据的target值\n",
        "\n"
      ]
    },
    {
      "cell_type": "markdown",
      "metadata": {
        "id": "3ZeimEA1GmkH"
      },
      "source": [
        "## General Model"
      ]
    },
    {
      "cell_type": "code",
      "metadata": {
        "id": "jWFr6oEKGspC"
      },
      "source": [
        "class TrainData(Dataset):\n",
        "  def __init__(self, X_data, y_data):\n",
        "    self.X_data = X_data\n",
        "    self.y_data = y_data\n",
        "  \n",
        "  def __getitem__(self, index):\n",
        "    return self.X_data[index], self.y_data[index]\n",
        "\n",
        "  def __len__(self):\n",
        "    return len(self.X_data)\n",
        "\n",
        "train_data = TrainData(torch.Tensor(tr), \n",
        "                       torch.Tensor(y_train.to_numpy()))\n",
        "\n",
        "class TestData(Dataset):\n",
        "    \n",
        "    def __init__(self, X_data):\n",
        "        self.X_data = X_data\n",
        "        \n",
        "    def __getitem__(self, index):\n",
        "        return self.X_data[index]\n",
        "        \n",
        "    def __len__ (self):\n",
        "        return len(self.X_data)\n",
        "    \n",
        "\n",
        "test_data = TestData(torch.Tensor(te)) #如果后续需要添加y_test数据至tensor，请在此处添加"
      ],
      "execution_count": 35,
      "outputs": []
    },
    {
      "cell_type": "code",
      "metadata": {
        "id": "lSUWMoKz7811"
      },
      "source": [
        "# y_test = y_test.to_numpy()"
      ],
      "execution_count": null,
      "outputs": []
    },
    {
      "cell_type": "code",
      "metadata": {
        "colab": {
          "base_uri": "https://localhost:8080/"
        },
        "id": "s740Yy18P9Ni",
        "outputId": "3da02b24-35c0-4d84-fa22-54f127fad398"
      },
      "source": [
        "train_data[0]"
      ],
      "execution_count": null,
      "outputs": [
        {
          "output_type": "execute_result",
          "data": {
            "text/plain": [
              "(tensor([0., 1., 0., 0., 0., 0., 0., 1., 0., 0., 1., 0., 0., 0., 0., 0., 0., 1.,\n",
              "         0., 0., 0., 1., 0., 0., 0., 0., 1., 0., 0., 1., 0., 0., 1., 1., 0., 1.,\n",
              "         0., 1., 0., 0., 1., 1., 0., 0., 1., 0., 0., 1., 0., 1., 0., 1., 1., 0.,\n",
              "         1., 0., 1., 0., 1., 0., 1., 0., 0., 1., 0., 1., 1., 0., 1., 0., 1., 0.,\n",
              "         1., 0., 0., 0., 1., 0., 0., 0., 0., 0., 0., 1., 0., 0., 0., 0., 1., 0.,\n",
              "         0., 0., 1., 0., 0., 0., 0., 1., 0., 1.]), tensor(1.))"
            ]
          },
          "metadata": {},
          "execution_count": 86
        }
      ]
    },
    {
      "cell_type": "code",
      "metadata": {
        "id": "pN0M-z6v-PzL"
      },
      "source": [
        "# all model parameters written at here\n",
        "EPOCHS = 100\n",
        "BATCH_SIZE = 64\n",
        "LEARNING_RATE = 0.001"
      ],
      "execution_count": 37,
      "outputs": []
    },
    {
      "cell_type": "code",
      "metadata": {
        "id": "KvvP3rPOMcCj"
      },
      "source": [
        "train_loader = DataLoader(dataset=train_data, batch_size=BATCH_SIZE, shuffle=True)\n",
        "test_loader = DataLoader(dataset=test_data, batch_size=1)"
      ],
      "execution_count": 38,
      "outputs": []
    },
    {
      "cell_type": "code",
      "metadata": {
        "id": "d-orNF1ZArXT"
      },
      "source": [
        "# Neural Network\n",
        "class Classifier(nn.Module):\n",
        "  def __init__(self):\n",
        "    super().__init__()\n",
        "    self.fc1 = nn.Linear(100, 64)\n",
        "    self.fc2 = nn.Linear(64, 32)\n",
        "    self.fc3 = nn.Linear(32, 16)\n",
        "    self.fc4 = nn.Linear(16,1)\n",
        "\n",
        "  def forward(self,x):\n",
        "    x = x.view(x.shape[0],-1)\n",
        "    x = F.relu(self.fc1(x))\n",
        "    x = F.relu(self.fc2(x))\n",
        "    x = F.relu(self.fc3(x))\n",
        "    x = F.log_softmax(self.fc4(x), dim=1)\n",
        "\n",
        "    return x\n"
      ],
      "execution_count": null,
      "outputs": []
    },
    {
      "cell_type": "code",
      "metadata": {
        "colab": {
          "base_uri": "https://localhost:8080/"
        },
        "id": "6YWpGCRfNHLS",
        "outputId": "0f86fee2-0c47-4690-d2c8-586734eecf02"
      },
      "source": [
        "device = torch.device(\"cuda:0\" if torch.cuda.is_available() else \"cpu\")\n",
        "print(device)"
      ],
      "execution_count": 39,
      "outputs": [
        {
          "output_type": "stream",
          "name": "stdout",
          "text": [
            "cpu\n"
          ]
        }
      ]
    },
    {
      "cell_type": "code",
      "metadata": {
        "colab": {
          "base_uri": "https://localhost:8080/"
        },
        "id": "1fS3XtsQNLqg",
        "outputId": "7d441b1d-e9bf-4a6d-93c7-4a3642483a40"
      },
      "source": [
        "# 定义模型，优化器\n",
        "model = Classifier()\n",
        "model.to(device)\n",
        "print(model)\n",
        "criterion = nn.BCELoss()\n",
        "optimizer = optim.Adam(model.parameters(), lr=LEARNING_RATE)"
      ],
      "execution_count": null,
      "outputs": [
        {
          "output_type": "stream",
          "name": "stdout",
          "text": [
            "Classifier(\n",
            "  (fc1): Linear(in_features=100, out_features=64, bias=True)\n",
            "  (fc2): Linear(in_features=64, out_features=32, bias=True)\n",
            "  (fc3): Linear(in_features=32, out_features=16, bias=True)\n",
            "  (fc4): Linear(in_features=16, out_features=1, bias=True)\n",
            ")\n"
          ]
        }
      ]
    },
    {
      "cell_type": "code",
      "metadata": {
        "id": "UhUHytepHMyw"
      },
      "source": [
        ""
      ],
      "execution_count": null,
      "outputs": []
    },
    {
      "cell_type": "code",
      "metadata": {
        "id": "Gf6EDPolNiU8"
      },
      "source": [
        "def binary_acc(y_pred, y_test):\n",
        "    y_pred_tag = torch.round(torch.sigmoid(y_pred))\n",
        "\n",
        "    correct_results_sum = (y_pred_tag == y_test).sum().float()\n",
        "    acc = correct_results_sum/y_test.shape[0]\n",
        "    acc = torch.round(acc * 100)\n",
        "    \n",
        "    return acc"
      ],
      "execution_count": null,
      "outputs": []
    },
    {
      "cell_type": "code",
      "metadata": {
        "id": "ba3sBNS3NjwC"
      },
      "source": [
        "model.train()\n",
        "for e in range(1, EPOCHS+1):\n",
        "    epoch_loss = 0\n",
        "    epoch_acc = 0\n",
        "    for X_batch, y_batch in train_loader:\n",
        "        X_batch, y_batch = X_batch.to(device), y_batch.to(device)\n",
        "        optimizer.zero_grad()\n",
        "        \n",
        "        y_pred = model(X_batch)\n",
        "        \n",
        "        loss = criterion(y_pred, y_batch.unsqueeze(1))\n",
        "        acc = binary_acc(y_pred, y_batch.unsqueeze(1))\n",
        "        \n",
        "        loss.backward()\n",
        "        optimizer.step()\n",
        "        \n",
        "        epoch_loss += loss.item()\n",
        "        epoch_acc += acc.item()\n",
        "        \n",
        "\n",
        "    print(f'Epoch {e+0:03}: | Loss: {epoch_loss/len(train_loader):.5f} | Acc: {epoch_acc/len(train_loader):.3f}')"
      ],
      "execution_count": null,
      "outputs": []
    },
    {
      "cell_type": "code",
      "metadata": {
        "id": "8lYgGBd2NNur"
      },
      "source": [
        "y_pred_list = []\n",
        "model.eval()\n",
        "with torch.no_grad():\n",
        "    for X_batch in test_loader:\n",
        "        X_batch = X_batch.to(device)\n",
        "        y_test_pred = model(X_batch)\n",
        "        y_test_pred = torch.sigmoid(y_test_pred)\n",
        "        y_pred_tag = torch.round(y_test_pred)\n",
        "        y_pred_list.append(y_pred_tag.cpu().numpy())\n",
        "\n",
        "y_pred_list = [a.squeeze().tolist() for a in y_pred_list]"
      ],
      "execution_count": null,
      "outputs": []
    },
    {
      "cell_type": "code",
      "metadata": {
        "id": "bdrBpM2KOplv"
      },
      "source": [
        "from sklearn.metrics import confusion_matrix, classification_report"
      ],
      "execution_count": 40,
      "outputs": []
    },
    {
      "cell_type": "code",
      "metadata": {
        "colab": {
          "base_uri": "https://localhost:8080/"
        },
        "id": "ruG0JmfhOtaB",
        "outputId": "5378ef65-00cf-41d5-9d00-794f8f1efd5d"
      },
      "source": [
        "print(classification_report(y_test, y_pred_list))"
      ],
      "execution_count": null,
      "outputs": [
        {
          "output_type": "stream",
          "name": "stdout",
          "text": [
            "              precision    recall  f1-score   support\n",
            "\n",
            "           0       0.51      1.00      0.68      6390\n",
            "           1       0.00      0.00      0.00      6121\n",
            "\n",
            "    accuracy                           0.51     12511\n",
            "   macro avg       0.26      0.50      0.34     12511\n",
            "weighted avg       0.26      0.51      0.35     12511\n",
            "\n"
          ]
        }
      ]
    },
    {
      "cell_type": "code",
      "metadata": {
        "id": "ySzvWGkgNk1Q"
      },
      "source": [
        "if 1.0 in y_pred_list:\n",
        "  print(\"YES\")"
      ],
      "execution_count": null,
      "outputs": []
    },
    {
      "cell_type": "code",
      "metadata": {
        "id": "37pQ_TCpgSPi"
      },
      "source": [
        "from sklearn import svm\n",
        "clf = svm.SVC(kernel='linear')"
      ],
      "execution_count": 41,
      "outputs": []
    },
    {
      "cell_type": "code",
      "metadata": {
        "colab": {
          "base_uri": "https://localhost:8080/"
        },
        "id": "v43bOiNOgSjS",
        "outputId": "4aa75b09-14a7-4c11-e2c8-98ed291704bc"
      },
      "source": [
        "clf.fit(tr, y_train)"
      ],
      "execution_count": null,
      "outputs": [
        {
          "output_type": "execute_result",
          "data": {
            "text/plain": [
              "SVC(C=1.0, break_ties=False, cache_size=200, class_weight=None, coef0=0.0,\n",
              "    decision_function_shape='ovr', degree=3, gamma='scale', kernel='linear',\n",
              "    max_iter=-1, probability=False, random_state=None, shrinking=True,\n",
              "    tol=0.001, verbose=False)"
            ]
          },
          "metadata": {},
          "execution_count": 99
        }
      ]
    },
    {
      "cell_type": "markdown",
      "metadata": {
        "id": "CkdaXiQ4sYMy"
      },
      "source": [
        "**SVM**"
      ]
    },
    {
      "cell_type": "code",
      "metadata": {
        "id": "Jz-HZXaKgSl0"
      },
      "source": [
        "SVM_result = clf.predict(te)"
      ],
      "execution_count": null,
      "outputs": []
    },
    {
      "cell_type": "code",
      "metadata": {
        "colab": {
          "base_uri": "https://localhost:8080/"
        },
        "id": "kZK6w_f8gSor",
        "outputId": "277a1ef8-aefe-4299-e4ff-7ef906d03d49"
      },
      "source": [
        "from sklearn import metrics\n",
        "print(\"Accuracy:\",metrics.accuracy_score(y_test, SVM_result))"
      ],
      "execution_count": null,
      "outputs": [
        {
          "output_type": "stream",
          "name": "stdout",
          "text": [
            "Accuracy: 0.9669091199744225\n"
          ]
        }
      ]
    },
    {
      "cell_type": "code",
      "metadata": {
        "colab": {
          "base_uri": "https://localhost:8080/"
        },
        "id": "zcwn1ugYhxAW",
        "outputId": "c6790a54-00a2-49aa-c0fb-de30f2bb8cfd"
      },
      "source": [
        "print(\"Precision:\",metrics.precision_score(y_test, SVM_result))\n",
        "print(\"Recall:\",metrics.recall_score(y_test, SVM_result))"
      ],
      "execution_count": null,
      "outputs": [
        {
          "output_type": "stream",
          "name": "stdout",
          "text": [
            "Precision: 0.9720430107526882\n",
            "Recall: 0.9599738604803136\n"
          ]
        }
      ]
    },
    {
      "cell_type": "markdown",
      "metadata": {
        "id": "emuGYBJrsiGr"
      },
      "source": [
        "**NB**"
      ]
    },
    {
      "cell_type": "code",
      "metadata": {
        "colab": {
          "base_uri": "https://localhost:8080/"
        },
        "id": "mfMvOo2GgStc",
        "outputId": "df5d8485-88c1-4517-852d-20ce6d4179ef"
      },
      "source": [
        "from sklearn.naive_bayes import GaussianNB\n",
        "GNB = GaussianNB()\n",
        "GNB.fit(tr,y_train)"
      ],
      "execution_count": 42,
      "outputs": [
        {
          "output_type": "execute_result",
          "data": {
            "text/plain": [
              "GaussianNB()"
            ]
          },
          "metadata": {},
          "execution_count": 42
        }
      ]
    },
    {
      "cell_type": "code",
      "metadata": {
        "id": "7BXB6kbkgSv3"
      },
      "source": [
        "GNB_result = GNB.predict(te)"
      ],
      "execution_count": 43,
      "outputs": []
    },
    {
      "cell_type": "code",
      "metadata": {
        "colab": {
          "base_uri": "https://localhost:8080/"
        },
        "id": "Mua03CK-gSyt",
        "outputId": "b08cdb3b-a190-480f-b23e-6d2d47a65cfe"
      },
      "source": [
        "print(\"Accuracy:\",metrics.accuracy_score(y_test, GNB_result))\n",
        "print(\"Precision:\",metrics.precision_score(y_test, GNB_result))\n",
        "print(\"Recall:\",metrics.recall_score(y_test, GNB_result))"
      ],
      "execution_count": 45,
      "outputs": [
        {
          "output_type": "stream",
          "name": "stdout",
          "text": [
            "Accuracy: 0.7212053393014147\n",
            "Precision: 0.7278654770075498\n",
            "Recall: 0.6904296875\n"
          ]
        }
      ]
    },
    {
      "cell_type": "markdown",
      "metadata": {
        "id": "xqb4uszKoW1j"
      },
      "source": [
        "### LSTM Module"
      ]
    },
    {
      "cell_type": "code",
      "metadata": {
        "id": "eVLJw9EyoW1j"
      },
      "source": [
        "batch_size, num_steps = 64, 35\n",
        "epochs = 50\n",
        "lr = 0.001\n",
        "# train_iter, vocab = d2l.load_data_time_machine(batch_size, num_steps)"
      ],
      "execution_count": 63,
      "outputs": []
    },
    {
      "cell_type": "code",
      "metadata": {
        "id": "TOrLJ7tV21h1"
      },
      "source": [
        "class RNNModelScratch:\n",
        "    \"\"\"从零开始实现的循环神经网络模型\"\"\"\n",
        "    def __init__(self, vocab_size, num_hiddens, device,\n",
        "                 get_params, init_state, forward_fn):\n",
        "        self.vocab_size, self.num_hiddens = vocab_size, num_hiddens\n",
        "        self.params = get_params(vocab_size, num_hiddens, device)\n",
        "        self.init_state, self.forward_fn = init_state, forward_fn\n",
        "\n",
        "    def __call__(self, X, state):\n",
        "        X = F.one_hot(X.T, self.vocab_size).type(torch.float32)\n",
        "        return self.forward_fn(X, state, self.params)\n",
        "\n",
        "    def begin_state(self, batch_size, device):\n",
        "        return self.init_state(batch_size, self.num_hiddens, device)"
      ],
      "execution_count": 64,
      "outputs": []
    },
    {
      "cell_type": "code",
      "metadata": {
        "id": "gZVAgTezoW1j"
      },
      "source": [
        "def get_lstm_params(vocab_size, num_hiddens, device):\n",
        "    num_inputs = num_outputs = dim_size\n",
        "\n",
        "    def normal(shape):\n",
        "        return torch.randn(size=shape, device=device)*0.01\n",
        "\n",
        "    def three():\n",
        "        return (normal((num_inputs, num_hiddens)),\n",
        "                normal((num_hiddens, num_hiddens)),\n",
        "                normal((num_hiddens, num_hiddens)),\n",
        "                torch.zeros(num_hiddens, device=device))\n",
        "\n",
        "    W_xi, W_hi, w_hs_in, b_i = three()  # 输入门参数\n",
        "    W_xf, W_hf, w_hs_for, b_f = three()  # 遗忘门参数\n",
        "    W_xo, W_ho, w_hs_out, b_o = three()  # 输出门参数\n",
        "    W_xc, W_hc, w_hs_candiate, b_c = three()  # 候选记忆单元参数\n",
        "    # 输出层参数\n",
        "    W_hq = normal((num_hiddens, num_outputs))\n",
        "    b_q = torch.zeros(num_outputs, device=device)\n",
        "    # 附加梯度\n",
        "    params = [W_xi, W_hi,w_hs_in, b_i, W_xf, W_hf,w_hs_for, b_f, W_xo, W_ho,w_hs_out, b_o, W_xc, W_hc, w_hs_candiate,\n",
        "              b_c, W_hq, b_q]\n",
        "    for param in params:\n",
        "        param.requires_grad_(True)\n",
        "    return params"
      ],
      "execution_count": 65,
      "outputs": []
    },
    {
      "cell_type": "code",
      "metadata": {
        "id": "G26-7FJOoW1j"
      },
      "source": [
        "def init_lstm_state(batch_size, num_hiddens, device):\n",
        "    return (torch.zeros((batch_size, num_hiddens), device=device),\n",
        "            torch.zeros((batch_size, num_hiddens), device=device))"
      ],
      "execution_count": 66,
      "outputs": []
    },
    {
      "cell_type": "code",
      "metadata": {
        "id": "HnDNf2SfoW1k"
      },
      "source": [
        "def lstm(inputs, state, params):\n",
        "    [W_xi, W_hi,w_hs_in, b_i, W_xf, W_hf,w_hs_for, b_f, W_xo, W_ho,w_hs_out, b_o, W_xc, W_hc, w_hs_candiate,\n",
        "     b_c, W_hq, b_q] = params\n",
        "    (H, C) = state\n",
        "    [HSCORE_LSTM] = HSCORE_train\n",
        "    outputs = []\n",
        "    for X in inputs:\n",
        "      for i in range(len(inputs)):\n",
        "        I = torch.sigmoid((X @ W_xi) + (H @ W_hi) + (HSCORE_LSTM[i] @ w_hs_in) + b_i)\n",
        "        F = torch.sigmoid((X @ W_xf) + (H @ W_hf) + (HSCORE_LSTM[i] @ w_hs_for) + b_f)\n",
        "        O = torch.sigmoid((X @ W_xo) + (H @ W_ho) + (HSCORE_LSTM[i] @ w_hs_out) + b_o)\n",
        "        C_tilda = torch.tanh((X @ W_xc) + (H @ W_hc) + (HSCORE_LSTM[i] @ w_hs_candiate)+ b_c)\n",
        "        C = F * C + I * C_tilda\n",
        "        H = O * torch.tanh(C)\n",
        "        Y = (H @ W_hq) + b_q\n",
        "        outputs.append(Y)\n",
        "    return torch.cat(outputs, dim=0), (H, C)"
      ],
      "execution_count": 67,
      "outputs": []
    },
    {
      "cell_type": "code",
      "metadata": {
        "id": "NXL_XrzRoW1k"
      },
      "source": [
        "vocab_size, num_hiddens, device = len(tr[0]), 256, device\n",
        "num_epochs, lr = 500, 0.0001\n",
        "model = RNNModelScratch(len(tr[0]), num_hiddens, device, get_lstm_params,\n",
        "                            init_lstm_state, lstm)\n",
        "# model = lstm()\n",
        "# model.to(device)\n",
        "# print(model)\n",
        "# criterion = nn.BCELoss()\n",
        "# optimizer = optim.Adam(model.parameters(), lr=LEARNING_RATE)"
      ],
      "execution_count": 68,
      "outputs": []
    },
    {
      "cell_type": "code",
      "metadata": {
        "id": "bthw31TLoW1l",
        "colab": {
          "base_uri": "https://localhost:8080/"
        },
        "outputId": "692eef80-3f07-427d-a5a2-b9c190ad1a01"
      },
      "source": [
        "len(tr[0])"
      ],
      "execution_count": 51,
      "outputs": [
        {
          "output_type": "execute_result",
          "data": {
            "text/plain": [
              "100"
            ]
          },
          "metadata": {},
          "execution_count": 51
        }
      ]
    },
    {
      "cell_type": "code",
      "metadata": {
        "id": "A62zIhwVoW1l",
        "colab": {
          "base_uri": "https://localhost:8080/"
        },
        "outputId": "930e2456-7d8f-40de-dd5f-811b616f2b59"
      },
      "source": [
        "print(model)"
      ],
      "execution_count": 69,
      "outputs": [
        {
          "output_type": "stream",
          "name": "stdout",
          "text": [
            "<__main__.RNNModelScratch object at 0x7f68819adf50>\n"
          ]
        }
      ]
    },
    {
      "cell_type": "code",
      "metadata": {
        "id": "TLe2xv3X5YxZ"
      },
      "source": [
        "criterion = nn.BCELoss()"
      ],
      "execution_count": 71,
      "outputs": []
    },
    {
      "cell_type": "code",
      "metadata": {
        "colab": {
          "base_uri": "https://localhost:8080/",
          "height": 164
        },
        "id": "TJOd11Fg5c3J",
        "outputId": "d156d71a-ba12-44a8-cf3a-1644a029a829"
      },
      "source": [
        ""
      ],
      "execution_count": 72,
      "outputs": [
        {
          "output_type": "error",
          "ename": "AttributeError",
          "evalue": "ignored",
          "traceback": [
            "\u001b[0;31m---------------------------------------------------------------------------\u001b[0m",
            "\u001b[0;31mAttributeError\u001b[0m                            Traceback (most recent call last)",
            "\u001b[0;32m<ipython-input-72-912414219039>\u001b[0m in \u001b[0;36m<module>\u001b[0;34m()\u001b[0m\n\u001b[0;32m----> 1\u001b[0;31m \u001b[0moptimizer\u001b[0m \u001b[0;34m=\u001b[0m \u001b[0moptim\u001b[0m\u001b[0;34m.\u001b[0m\u001b[0mAdam\u001b[0m\u001b[0;34m(\u001b[0m\u001b[0mmodel\u001b[0m\u001b[0;34m.\u001b[0m\u001b[0mparameters\u001b[0m\u001b[0;34m(\u001b[0m\u001b[0;34m)\u001b[0m\u001b[0;34m,\u001b[0m \u001b[0mlr\u001b[0m\u001b[0;34m=\u001b[0m\u001b[0mLEARNING_RATE\u001b[0m\u001b[0;34m)\u001b[0m\u001b[0;34m\u001b[0m\u001b[0;34m\u001b[0m\u001b[0m\n\u001b[0m",
            "\u001b[0;31mAttributeError\u001b[0m: 'RNNModelScratch' object has no attribute 'parameters'"
          ]
        }
      ]
    },
    {
      "cell_type": "code",
      "metadata": {
        "id": "pUygANSE5iad"
      },
      "source": [
        ""
      ],
      "execution_count": null,
      "outputs": []
    }
  ]
}